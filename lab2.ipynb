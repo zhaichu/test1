{
  "metadata": {
    "kernelspec": {
      "name": "python",
      "display_name": "Python (Pyodide)",
      "language": "python"
    },
    "language_info": {
      "codemirror_mode": {
        "name": "python",
        "version": 3
      },
      "file_extension": ".py",
      "mimetype": "text/x-python",
      "name": "python",
      "nbconvert_exporter": "python",
      "pygments_lexer": "ipython3",
      "version": "3.8"
    }
  },
  "nbformat_minor": 5,
  "nbformat": 4,
  "cells": [
    {
      "cell_type": "code",
      "source": "import pandas as pd\nimport numpy as np",
      "metadata": {
        "trusted": true
      },
      "execution_count": 1,
      "outputs": [],
      "id": "8bcfd3d2-6366-4565-b969-91872e08b16b"
    },
    {
      "cell_type": "code",
      "source": "esg15=pd.read_csv('esg15.csv',low_memory=False)\nesg20=pd.read_csv('esg20.csv',low_memory=False)\nesg21=pd.read_csv('esg21.csv',low_memory=False)",
      "metadata": {
        "trusted": true
      },
      "execution_count": 2,
      "outputs": [
        {
          "ename": "<class 'FileNotFoundError'>",
          "evalue": "[Errno 44] No such file or directory: 'esg15.csv'",
          "traceback": [
            "\u001b[0;31m---------------------------------------------------------------------------\u001b[0m",
            "\u001b[0;31mFileNotFoundError\u001b[0m                         Traceback (most recent call last)",
            "Cell \u001b[0;32mIn[2], line 1\u001b[0m\n\u001b[0;32m----> 1\u001b[0m esg15\u001b[38;5;241m=\u001b[39m\u001b[43mpd\u001b[49m\u001b[38;5;241;43m.\u001b[39;49m\u001b[43mread_csv\u001b[49m\u001b[43m(\u001b[49m\u001b[38;5;124;43m'\u001b[39;49m\u001b[38;5;124;43mesg15.csv\u001b[39;49m\u001b[38;5;124;43m'\u001b[39;49m\u001b[43m,\u001b[49m\u001b[43mlow_memory\u001b[49m\u001b[38;5;241;43m=\u001b[39;49m\u001b[38;5;28;43;01mFalse\u001b[39;49;00m\u001b[43m)\u001b[49m\n\u001b[1;32m      2\u001b[0m esg20\u001b[38;5;241m=\u001b[39mpd\u001b[38;5;241m.\u001b[39mread_csv(\u001b[38;5;124m'\u001b[39m\u001b[38;5;124mesg20.csv\u001b[39m\u001b[38;5;124m'\u001b[39m,low_memory\u001b[38;5;241m=\u001b[39m\u001b[38;5;28;01mFalse\u001b[39;00m)\n\u001b[1;32m      3\u001b[0m esg21\u001b[38;5;241m=\u001b[39mpd\u001b[38;5;241m.\u001b[39mread_csv(\u001b[38;5;124m'\u001b[39m\u001b[38;5;124mesg21.csv\u001b[39m\u001b[38;5;124m'\u001b[39m,low_memory\u001b[38;5;241m=\u001b[39m\u001b[38;5;28;01mFalse\u001b[39;00m)\n",
            "File \u001b[0;32m/lib/python3.11/site-packages/pandas/util/_decorators.py:211\u001b[0m, in \u001b[0;36mdeprecate_kwarg.<locals>._deprecate_kwarg.<locals>.wrapper\u001b[0;34m(*args, **kwargs)\u001b[0m\n\u001b[1;32m    209\u001b[0m     \u001b[38;5;28;01melse\u001b[39;00m:\n\u001b[1;32m    210\u001b[0m         kwargs[new_arg_name] \u001b[38;5;241m=\u001b[39m new_arg_value\n\u001b[0;32m--> 211\u001b[0m \u001b[38;5;28;01mreturn\u001b[39;00m \u001b[43mfunc\u001b[49m\u001b[43m(\u001b[49m\u001b[38;5;241;43m*\u001b[39;49m\u001b[43margs\u001b[49m\u001b[43m,\u001b[49m\u001b[43m \u001b[49m\u001b[38;5;241;43m*\u001b[39;49m\u001b[38;5;241;43m*\u001b[39;49m\u001b[43mkwargs\u001b[49m\u001b[43m)\u001b[49m\n",
            "File \u001b[0;32m/lib/python3.11/site-packages/pandas/util/_decorators.py:331\u001b[0m, in \u001b[0;36mdeprecate_nonkeyword_arguments.<locals>.decorate.<locals>.wrapper\u001b[0;34m(*args, **kwargs)\u001b[0m\n\u001b[1;32m    325\u001b[0m \u001b[38;5;28;01mif\u001b[39;00m \u001b[38;5;28mlen\u001b[39m(args) \u001b[38;5;241m>\u001b[39m num_allow_args:\n\u001b[1;32m    326\u001b[0m     warnings\u001b[38;5;241m.\u001b[39mwarn(\n\u001b[1;32m    327\u001b[0m         msg\u001b[38;5;241m.\u001b[39mformat(arguments\u001b[38;5;241m=\u001b[39m_format_argument_list(allow_args)),\n\u001b[1;32m    328\u001b[0m         \u001b[38;5;167;01mFutureWarning\u001b[39;00m,\n\u001b[1;32m    329\u001b[0m         stacklevel\u001b[38;5;241m=\u001b[39mfind_stack_level(),\n\u001b[1;32m    330\u001b[0m     )\n\u001b[0;32m--> 331\u001b[0m \u001b[38;5;28;01mreturn\u001b[39;00m \u001b[43mfunc\u001b[49m\u001b[43m(\u001b[49m\u001b[38;5;241;43m*\u001b[39;49m\u001b[43margs\u001b[49m\u001b[43m,\u001b[49m\u001b[43m \u001b[49m\u001b[38;5;241;43m*\u001b[39;49m\u001b[38;5;241;43m*\u001b[39;49m\u001b[43mkwargs\u001b[49m\u001b[43m)\u001b[49m\n",
            "File \u001b[0;32m/lib/python3.11/site-packages/pandas/io/parsers/readers.py:950\u001b[0m, in \u001b[0;36mread_csv\u001b[0;34m(filepath_or_buffer, sep, delimiter, header, names, index_col, usecols, squeeze, prefix, mangle_dupe_cols, dtype, engine, converters, true_values, false_values, skipinitialspace, skiprows, skipfooter, nrows, na_values, keep_default_na, na_filter, verbose, skip_blank_lines, parse_dates, infer_datetime_format, keep_date_col, date_parser, dayfirst, cache_dates, iterator, chunksize, compression, thousands, decimal, lineterminator, quotechar, quoting, doublequote, escapechar, comment, encoding, encoding_errors, dialect, error_bad_lines, warn_bad_lines, on_bad_lines, delim_whitespace, low_memory, memory_map, float_precision, storage_options)\u001b[0m\n\u001b[1;32m    935\u001b[0m kwds_defaults \u001b[38;5;241m=\u001b[39m _refine_defaults_read(\n\u001b[1;32m    936\u001b[0m     dialect,\n\u001b[1;32m    937\u001b[0m     delimiter,\n\u001b[0;32m   (...)\u001b[0m\n\u001b[1;32m    946\u001b[0m     defaults\u001b[38;5;241m=\u001b[39m{\u001b[38;5;124m\"\u001b[39m\u001b[38;5;124mdelimiter\u001b[39m\u001b[38;5;124m\"\u001b[39m: \u001b[38;5;124m\"\u001b[39m\u001b[38;5;124m,\u001b[39m\u001b[38;5;124m\"\u001b[39m},\n\u001b[1;32m    947\u001b[0m )\n\u001b[1;32m    948\u001b[0m kwds\u001b[38;5;241m.\u001b[39mupdate(kwds_defaults)\n\u001b[0;32m--> 950\u001b[0m \u001b[38;5;28;01mreturn\u001b[39;00m \u001b[43m_read\u001b[49m\u001b[43m(\u001b[49m\u001b[43mfilepath_or_buffer\u001b[49m\u001b[43m,\u001b[49m\u001b[43m \u001b[49m\u001b[43mkwds\u001b[49m\u001b[43m)\u001b[49m\n",
            "File \u001b[0;32m/lib/python3.11/site-packages/pandas/io/parsers/readers.py:605\u001b[0m, in \u001b[0;36m_read\u001b[0;34m(filepath_or_buffer, kwds)\u001b[0m\n\u001b[1;32m    602\u001b[0m _validate_names(kwds\u001b[38;5;241m.\u001b[39mget(\u001b[38;5;124m\"\u001b[39m\u001b[38;5;124mnames\u001b[39m\u001b[38;5;124m\"\u001b[39m, \u001b[38;5;28;01mNone\u001b[39;00m))\n\u001b[1;32m    604\u001b[0m \u001b[38;5;66;03m# Create the parser.\u001b[39;00m\n\u001b[0;32m--> 605\u001b[0m parser \u001b[38;5;241m=\u001b[39m \u001b[43mTextFileReader\u001b[49m\u001b[43m(\u001b[49m\u001b[43mfilepath_or_buffer\u001b[49m\u001b[43m,\u001b[49m\u001b[43m \u001b[49m\u001b[38;5;241;43m*\u001b[39;49m\u001b[38;5;241;43m*\u001b[39;49m\u001b[43mkwds\u001b[49m\u001b[43m)\u001b[49m\n\u001b[1;32m    607\u001b[0m \u001b[38;5;28;01mif\u001b[39;00m chunksize \u001b[38;5;129;01mor\u001b[39;00m iterator:\n\u001b[1;32m    608\u001b[0m     \u001b[38;5;28;01mreturn\u001b[39;00m parser\n",
            "File \u001b[0;32m/lib/python3.11/site-packages/pandas/io/parsers/readers.py:1442\u001b[0m, in \u001b[0;36mTextFileReader.__init__\u001b[0;34m(self, f, engine, **kwds)\u001b[0m\n\u001b[1;32m   1439\u001b[0m     \u001b[38;5;28mself\u001b[39m\u001b[38;5;241m.\u001b[39moptions[\u001b[38;5;124m\"\u001b[39m\u001b[38;5;124mhas_index_names\u001b[39m\u001b[38;5;124m\"\u001b[39m] \u001b[38;5;241m=\u001b[39m kwds[\u001b[38;5;124m\"\u001b[39m\u001b[38;5;124mhas_index_names\u001b[39m\u001b[38;5;124m\"\u001b[39m]\n\u001b[1;32m   1441\u001b[0m \u001b[38;5;28mself\u001b[39m\u001b[38;5;241m.\u001b[39mhandles: IOHandles \u001b[38;5;241m|\u001b[39m \u001b[38;5;28;01mNone\u001b[39;00m \u001b[38;5;241m=\u001b[39m \u001b[38;5;28;01mNone\u001b[39;00m\n\u001b[0;32m-> 1442\u001b[0m \u001b[38;5;28mself\u001b[39m\u001b[38;5;241m.\u001b[39m_engine \u001b[38;5;241m=\u001b[39m \u001b[38;5;28;43mself\u001b[39;49m\u001b[38;5;241;43m.\u001b[39;49m\u001b[43m_make_engine\u001b[49m\u001b[43m(\u001b[49m\u001b[43mf\u001b[49m\u001b[43m,\u001b[49m\u001b[43m \u001b[49m\u001b[38;5;28;43mself\u001b[39;49m\u001b[38;5;241;43m.\u001b[39;49m\u001b[43mengine\u001b[49m\u001b[43m)\u001b[49m\n",
            "File \u001b[0;32m/lib/python3.11/site-packages/pandas/io/parsers/readers.py:1735\u001b[0m, in \u001b[0;36mTextFileReader._make_engine\u001b[0;34m(self, f, engine)\u001b[0m\n\u001b[1;32m   1733\u001b[0m     \u001b[38;5;28;01mif\u001b[39;00m \u001b[38;5;124m\"\u001b[39m\u001b[38;5;124mb\u001b[39m\u001b[38;5;124m\"\u001b[39m \u001b[38;5;129;01mnot\u001b[39;00m \u001b[38;5;129;01min\u001b[39;00m mode:\n\u001b[1;32m   1734\u001b[0m         mode \u001b[38;5;241m+\u001b[39m\u001b[38;5;241m=\u001b[39m \u001b[38;5;124m\"\u001b[39m\u001b[38;5;124mb\u001b[39m\u001b[38;5;124m\"\u001b[39m\n\u001b[0;32m-> 1735\u001b[0m \u001b[38;5;28mself\u001b[39m\u001b[38;5;241m.\u001b[39mhandles \u001b[38;5;241m=\u001b[39m \u001b[43mget_handle\u001b[49m\u001b[43m(\u001b[49m\n\u001b[1;32m   1736\u001b[0m \u001b[43m    \u001b[49m\u001b[43mf\u001b[49m\u001b[43m,\u001b[49m\n\u001b[1;32m   1737\u001b[0m \u001b[43m    \u001b[49m\u001b[43mmode\u001b[49m\u001b[43m,\u001b[49m\n\u001b[1;32m   1738\u001b[0m \u001b[43m    \u001b[49m\u001b[43mencoding\u001b[49m\u001b[38;5;241;43m=\u001b[39;49m\u001b[38;5;28;43mself\u001b[39;49m\u001b[38;5;241;43m.\u001b[39;49m\u001b[43moptions\u001b[49m\u001b[38;5;241;43m.\u001b[39;49m\u001b[43mget\u001b[49m\u001b[43m(\u001b[49m\u001b[38;5;124;43m\"\u001b[39;49m\u001b[38;5;124;43mencoding\u001b[39;49m\u001b[38;5;124;43m\"\u001b[39;49m\u001b[43m,\u001b[49m\u001b[43m \u001b[49m\u001b[38;5;28;43;01mNone\u001b[39;49;00m\u001b[43m)\u001b[49m\u001b[43m,\u001b[49m\n\u001b[1;32m   1739\u001b[0m \u001b[43m    \u001b[49m\u001b[43mcompression\u001b[49m\u001b[38;5;241;43m=\u001b[39;49m\u001b[38;5;28;43mself\u001b[39;49m\u001b[38;5;241;43m.\u001b[39;49m\u001b[43moptions\u001b[49m\u001b[38;5;241;43m.\u001b[39;49m\u001b[43mget\u001b[49m\u001b[43m(\u001b[49m\u001b[38;5;124;43m\"\u001b[39;49m\u001b[38;5;124;43mcompression\u001b[39;49m\u001b[38;5;124;43m\"\u001b[39;49m\u001b[43m,\u001b[49m\u001b[43m \u001b[49m\u001b[38;5;28;43;01mNone\u001b[39;49;00m\u001b[43m)\u001b[49m\u001b[43m,\u001b[49m\n\u001b[1;32m   1740\u001b[0m \u001b[43m    \u001b[49m\u001b[43mmemory_map\u001b[49m\u001b[38;5;241;43m=\u001b[39;49m\u001b[38;5;28;43mself\u001b[39;49m\u001b[38;5;241;43m.\u001b[39;49m\u001b[43moptions\u001b[49m\u001b[38;5;241;43m.\u001b[39;49m\u001b[43mget\u001b[49m\u001b[43m(\u001b[49m\u001b[38;5;124;43m\"\u001b[39;49m\u001b[38;5;124;43mmemory_map\u001b[39;49m\u001b[38;5;124;43m\"\u001b[39;49m\u001b[43m,\u001b[49m\u001b[43m \u001b[49m\u001b[38;5;28;43;01mFalse\u001b[39;49;00m\u001b[43m)\u001b[49m\u001b[43m,\u001b[49m\n\u001b[1;32m   1741\u001b[0m \u001b[43m    \u001b[49m\u001b[43mis_text\u001b[49m\u001b[38;5;241;43m=\u001b[39;49m\u001b[43mis_text\u001b[49m\u001b[43m,\u001b[49m\n\u001b[1;32m   1742\u001b[0m \u001b[43m    \u001b[49m\u001b[43merrors\u001b[49m\u001b[38;5;241;43m=\u001b[39;49m\u001b[38;5;28;43mself\u001b[39;49m\u001b[38;5;241;43m.\u001b[39;49m\u001b[43moptions\u001b[49m\u001b[38;5;241;43m.\u001b[39;49m\u001b[43mget\u001b[49m\u001b[43m(\u001b[49m\u001b[38;5;124;43m\"\u001b[39;49m\u001b[38;5;124;43mencoding_errors\u001b[39;49m\u001b[38;5;124;43m\"\u001b[39;49m\u001b[43m,\u001b[49m\u001b[43m \u001b[49m\u001b[38;5;124;43m\"\u001b[39;49m\u001b[38;5;124;43mstrict\u001b[39;49m\u001b[38;5;124;43m\"\u001b[39;49m\u001b[43m)\u001b[49m\u001b[43m,\u001b[49m\n\u001b[1;32m   1743\u001b[0m \u001b[43m    \u001b[49m\u001b[43mstorage_options\u001b[49m\u001b[38;5;241;43m=\u001b[39;49m\u001b[38;5;28;43mself\u001b[39;49m\u001b[38;5;241;43m.\u001b[39;49m\u001b[43moptions\u001b[49m\u001b[38;5;241;43m.\u001b[39;49m\u001b[43mget\u001b[49m\u001b[43m(\u001b[49m\u001b[38;5;124;43m\"\u001b[39;49m\u001b[38;5;124;43mstorage_options\u001b[39;49m\u001b[38;5;124;43m\"\u001b[39;49m\u001b[43m,\u001b[49m\u001b[43m \u001b[49m\u001b[38;5;28;43;01mNone\u001b[39;49;00m\u001b[43m)\u001b[49m\u001b[43m,\u001b[49m\n\u001b[1;32m   1744\u001b[0m \u001b[43m\u001b[49m\u001b[43m)\u001b[49m\n\u001b[1;32m   1745\u001b[0m \u001b[38;5;28;01massert\u001b[39;00m \u001b[38;5;28mself\u001b[39m\u001b[38;5;241m.\u001b[39mhandles \u001b[38;5;129;01mis\u001b[39;00m \u001b[38;5;129;01mnot\u001b[39;00m \u001b[38;5;28;01mNone\u001b[39;00m\n\u001b[1;32m   1746\u001b[0m f \u001b[38;5;241m=\u001b[39m \u001b[38;5;28mself\u001b[39m\u001b[38;5;241m.\u001b[39mhandles\u001b[38;5;241m.\u001b[39mhandle\n",
            "File \u001b[0;32m/lib/python3.11/site-packages/pandas/io/common.py:856\u001b[0m, in \u001b[0;36mget_handle\u001b[0;34m(path_or_buf, mode, encoding, compression, memory_map, is_text, errors, storage_options)\u001b[0m\n\u001b[1;32m    851\u001b[0m \u001b[38;5;28;01melif\u001b[39;00m \u001b[38;5;28misinstance\u001b[39m(handle, \u001b[38;5;28mstr\u001b[39m):\n\u001b[1;32m    852\u001b[0m     \u001b[38;5;66;03m# Check whether the filename is to be opened in binary mode.\u001b[39;00m\n\u001b[1;32m    853\u001b[0m     \u001b[38;5;66;03m# Binary mode does not support 'encoding' and 'newline'.\u001b[39;00m\n\u001b[1;32m    854\u001b[0m     \u001b[38;5;28;01mif\u001b[39;00m ioargs\u001b[38;5;241m.\u001b[39mencoding \u001b[38;5;129;01mand\u001b[39;00m \u001b[38;5;124m\"\u001b[39m\u001b[38;5;124mb\u001b[39m\u001b[38;5;124m\"\u001b[39m \u001b[38;5;129;01mnot\u001b[39;00m \u001b[38;5;129;01min\u001b[39;00m ioargs\u001b[38;5;241m.\u001b[39mmode:\n\u001b[1;32m    855\u001b[0m         \u001b[38;5;66;03m# Encoding\u001b[39;00m\n\u001b[0;32m--> 856\u001b[0m         handle \u001b[38;5;241m=\u001b[39m \u001b[38;5;28;43mopen\u001b[39;49m\u001b[43m(\u001b[49m\n\u001b[1;32m    857\u001b[0m \u001b[43m            \u001b[49m\u001b[43mhandle\u001b[49m\u001b[43m,\u001b[49m\n\u001b[1;32m    858\u001b[0m \u001b[43m            \u001b[49m\u001b[43mioargs\u001b[49m\u001b[38;5;241;43m.\u001b[39;49m\u001b[43mmode\u001b[49m\u001b[43m,\u001b[49m\n\u001b[1;32m    859\u001b[0m \u001b[43m            \u001b[49m\u001b[43mencoding\u001b[49m\u001b[38;5;241;43m=\u001b[39;49m\u001b[43mioargs\u001b[49m\u001b[38;5;241;43m.\u001b[39;49m\u001b[43mencoding\u001b[49m\u001b[43m,\u001b[49m\n\u001b[1;32m    860\u001b[0m \u001b[43m            \u001b[49m\u001b[43merrors\u001b[49m\u001b[38;5;241;43m=\u001b[39;49m\u001b[43merrors\u001b[49m\u001b[43m,\u001b[49m\n\u001b[1;32m    861\u001b[0m \u001b[43m            \u001b[49m\u001b[43mnewline\u001b[49m\u001b[38;5;241;43m=\u001b[39;49m\u001b[38;5;124;43m\"\u001b[39;49m\u001b[38;5;124;43m\"\u001b[39;49m\u001b[43m,\u001b[49m\n\u001b[1;32m    862\u001b[0m \u001b[43m        \u001b[49m\u001b[43m)\u001b[49m\n\u001b[1;32m    863\u001b[0m     \u001b[38;5;28;01melse\u001b[39;00m:\n\u001b[1;32m    864\u001b[0m         \u001b[38;5;66;03m# Binary mode\u001b[39;00m\n\u001b[1;32m    865\u001b[0m         handle \u001b[38;5;241m=\u001b[39m \u001b[38;5;28mopen\u001b[39m(handle, ioargs\u001b[38;5;241m.\u001b[39mmode)\n",
            "\u001b[0;31mFileNotFoundError\u001b[0m: [Errno 44] No such file or directory: 'esg15.csv'"
          ],
          "output_type": "error"
        }
      ],
      "id": "36957915-29c0-4407-bcb8-e68c2d4d3608"
    },
    {
      "cell_type": "code",
      "source": "esg13=pd.read_csv('esg13.csv',low_memory=False)\nesg14=pd.read_csv('esg14.csv',low_memory=False)\nesg16=pd.read_csv('esg16.csv',low_memory=False)\nesg17=pd.read_csv('esg17.csv',low_memory=False)\nesg18=pd.read_csv('esg18.csv',low_memory=False)\nesg19=pd.read_csv('esg19.csv',low_memory=False)",
      "metadata": {
        "trusted": true
      },
      "execution_count": 3,
      "outputs": [
        {
          "ename": "<class 'FileNotFoundError'>",
          "evalue": "[Errno 44] No such file or directory: 'esg13.csv'",
          "traceback": [
            "\u001b[0;31m---------------------------------------------------------------------------\u001b[0m",
            "\u001b[0;31mFileNotFoundError\u001b[0m                         Traceback (most recent call last)",
            "Cell \u001b[0;32mIn[3], line 1\u001b[0m\n\u001b[0;32m----> 1\u001b[0m esg13\u001b[38;5;241m=\u001b[39m\u001b[43mpd\u001b[49m\u001b[38;5;241;43m.\u001b[39;49m\u001b[43mread_csv\u001b[49m\u001b[43m(\u001b[49m\u001b[38;5;124;43m'\u001b[39;49m\u001b[38;5;124;43mesg13.csv\u001b[39;49m\u001b[38;5;124;43m'\u001b[39;49m\u001b[43m,\u001b[49m\u001b[43mlow_memory\u001b[49m\u001b[38;5;241;43m=\u001b[39;49m\u001b[38;5;28;43;01mFalse\u001b[39;49;00m\u001b[43m)\u001b[49m\n\u001b[1;32m      2\u001b[0m esg14\u001b[38;5;241m=\u001b[39mpd\u001b[38;5;241m.\u001b[39mread_csv(\u001b[38;5;124m'\u001b[39m\u001b[38;5;124mesg14.csv\u001b[39m\u001b[38;5;124m'\u001b[39m,low_memory\u001b[38;5;241m=\u001b[39m\u001b[38;5;28;01mFalse\u001b[39;00m)\n\u001b[1;32m      3\u001b[0m esg16\u001b[38;5;241m=\u001b[39mpd\u001b[38;5;241m.\u001b[39mread_csv(\u001b[38;5;124m'\u001b[39m\u001b[38;5;124mesg16.csv\u001b[39m\u001b[38;5;124m'\u001b[39m,low_memory\u001b[38;5;241m=\u001b[39m\u001b[38;5;28;01mFalse\u001b[39;00m)\n",
            "File \u001b[0;32m/lib/python3.11/site-packages/pandas/util/_decorators.py:211\u001b[0m, in \u001b[0;36mdeprecate_kwarg.<locals>._deprecate_kwarg.<locals>.wrapper\u001b[0;34m(*args, **kwargs)\u001b[0m\n\u001b[1;32m    209\u001b[0m     \u001b[38;5;28;01melse\u001b[39;00m:\n\u001b[1;32m    210\u001b[0m         kwargs[new_arg_name] \u001b[38;5;241m=\u001b[39m new_arg_value\n\u001b[0;32m--> 211\u001b[0m \u001b[38;5;28;01mreturn\u001b[39;00m \u001b[43mfunc\u001b[49m\u001b[43m(\u001b[49m\u001b[38;5;241;43m*\u001b[39;49m\u001b[43margs\u001b[49m\u001b[43m,\u001b[49m\u001b[43m \u001b[49m\u001b[38;5;241;43m*\u001b[39;49m\u001b[38;5;241;43m*\u001b[39;49m\u001b[43mkwargs\u001b[49m\u001b[43m)\u001b[49m\n",
            "File \u001b[0;32m/lib/python3.11/site-packages/pandas/util/_decorators.py:331\u001b[0m, in \u001b[0;36mdeprecate_nonkeyword_arguments.<locals>.decorate.<locals>.wrapper\u001b[0;34m(*args, **kwargs)\u001b[0m\n\u001b[1;32m    325\u001b[0m \u001b[38;5;28;01mif\u001b[39;00m \u001b[38;5;28mlen\u001b[39m(args) \u001b[38;5;241m>\u001b[39m num_allow_args:\n\u001b[1;32m    326\u001b[0m     warnings\u001b[38;5;241m.\u001b[39mwarn(\n\u001b[1;32m    327\u001b[0m         msg\u001b[38;5;241m.\u001b[39mformat(arguments\u001b[38;5;241m=\u001b[39m_format_argument_list(allow_args)),\n\u001b[1;32m    328\u001b[0m         \u001b[38;5;167;01mFutureWarning\u001b[39;00m,\n\u001b[1;32m    329\u001b[0m         stacklevel\u001b[38;5;241m=\u001b[39mfind_stack_level(),\n\u001b[1;32m    330\u001b[0m     )\n\u001b[0;32m--> 331\u001b[0m \u001b[38;5;28;01mreturn\u001b[39;00m \u001b[43mfunc\u001b[49m\u001b[43m(\u001b[49m\u001b[38;5;241;43m*\u001b[39;49m\u001b[43margs\u001b[49m\u001b[43m,\u001b[49m\u001b[43m \u001b[49m\u001b[38;5;241;43m*\u001b[39;49m\u001b[38;5;241;43m*\u001b[39;49m\u001b[43mkwargs\u001b[49m\u001b[43m)\u001b[49m\n",
            "File \u001b[0;32m/lib/python3.11/site-packages/pandas/io/parsers/readers.py:950\u001b[0m, in \u001b[0;36mread_csv\u001b[0;34m(filepath_or_buffer, sep, delimiter, header, names, index_col, usecols, squeeze, prefix, mangle_dupe_cols, dtype, engine, converters, true_values, false_values, skipinitialspace, skiprows, skipfooter, nrows, na_values, keep_default_na, na_filter, verbose, skip_blank_lines, parse_dates, infer_datetime_format, keep_date_col, date_parser, dayfirst, cache_dates, iterator, chunksize, compression, thousands, decimal, lineterminator, quotechar, quoting, doublequote, escapechar, comment, encoding, encoding_errors, dialect, error_bad_lines, warn_bad_lines, on_bad_lines, delim_whitespace, low_memory, memory_map, float_precision, storage_options)\u001b[0m\n\u001b[1;32m    935\u001b[0m kwds_defaults \u001b[38;5;241m=\u001b[39m _refine_defaults_read(\n\u001b[1;32m    936\u001b[0m     dialect,\n\u001b[1;32m    937\u001b[0m     delimiter,\n\u001b[0;32m   (...)\u001b[0m\n\u001b[1;32m    946\u001b[0m     defaults\u001b[38;5;241m=\u001b[39m{\u001b[38;5;124m\"\u001b[39m\u001b[38;5;124mdelimiter\u001b[39m\u001b[38;5;124m\"\u001b[39m: \u001b[38;5;124m\"\u001b[39m\u001b[38;5;124m,\u001b[39m\u001b[38;5;124m\"\u001b[39m},\n\u001b[1;32m    947\u001b[0m )\n\u001b[1;32m    948\u001b[0m kwds\u001b[38;5;241m.\u001b[39mupdate(kwds_defaults)\n\u001b[0;32m--> 950\u001b[0m \u001b[38;5;28;01mreturn\u001b[39;00m \u001b[43m_read\u001b[49m\u001b[43m(\u001b[49m\u001b[43mfilepath_or_buffer\u001b[49m\u001b[43m,\u001b[49m\u001b[43m \u001b[49m\u001b[43mkwds\u001b[49m\u001b[43m)\u001b[49m\n",
            "File \u001b[0;32m/lib/python3.11/site-packages/pandas/io/parsers/readers.py:605\u001b[0m, in \u001b[0;36m_read\u001b[0;34m(filepath_or_buffer, kwds)\u001b[0m\n\u001b[1;32m    602\u001b[0m _validate_names(kwds\u001b[38;5;241m.\u001b[39mget(\u001b[38;5;124m\"\u001b[39m\u001b[38;5;124mnames\u001b[39m\u001b[38;5;124m\"\u001b[39m, \u001b[38;5;28;01mNone\u001b[39;00m))\n\u001b[1;32m    604\u001b[0m \u001b[38;5;66;03m# Create the parser.\u001b[39;00m\n\u001b[0;32m--> 605\u001b[0m parser \u001b[38;5;241m=\u001b[39m \u001b[43mTextFileReader\u001b[49m\u001b[43m(\u001b[49m\u001b[43mfilepath_or_buffer\u001b[49m\u001b[43m,\u001b[49m\u001b[43m \u001b[49m\u001b[38;5;241;43m*\u001b[39;49m\u001b[38;5;241;43m*\u001b[39;49m\u001b[43mkwds\u001b[49m\u001b[43m)\u001b[49m\n\u001b[1;32m    607\u001b[0m \u001b[38;5;28;01mif\u001b[39;00m chunksize \u001b[38;5;129;01mor\u001b[39;00m iterator:\n\u001b[1;32m    608\u001b[0m     \u001b[38;5;28;01mreturn\u001b[39;00m parser\n",
            "File \u001b[0;32m/lib/python3.11/site-packages/pandas/io/parsers/readers.py:1442\u001b[0m, in \u001b[0;36mTextFileReader.__init__\u001b[0;34m(self, f, engine, **kwds)\u001b[0m\n\u001b[1;32m   1439\u001b[0m     \u001b[38;5;28mself\u001b[39m\u001b[38;5;241m.\u001b[39moptions[\u001b[38;5;124m\"\u001b[39m\u001b[38;5;124mhas_index_names\u001b[39m\u001b[38;5;124m\"\u001b[39m] \u001b[38;5;241m=\u001b[39m kwds[\u001b[38;5;124m\"\u001b[39m\u001b[38;5;124mhas_index_names\u001b[39m\u001b[38;5;124m\"\u001b[39m]\n\u001b[1;32m   1441\u001b[0m \u001b[38;5;28mself\u001b[39m\u001b[38;5;241m.\u001b[39mhandles: IOHandles \u001b[38;5;241m|\u001b[39m \u001b[38;5;28;01mNone\u001b[39;00m \u001b[38;5;241m=\u001b[39m \u001b[38;5;28;01mNone\u001b[39;00m\n\u001b[0;32m-> 1442\u001b[0m \u001b[38;5;28mself\u001b[39m\u001b[38;5;241m.\u001b[39m_engine \u001b[38;5;241m=\u001b[39m \u001b[38;5;28;43mself\u001b[39;49m\u001b[38;5;241;43m.\u001b[39;49m\u001b[43m_make_engine\u001b[49m\u001b[43m(\u001b[49m\u001b[43mf\u001b[49m\u001b[43m,\u001b[49m\u001b[43m \u001b[49m\u001b[38;5;28;43mself\u001b[39;49m\u001b[38;5;241;43m.\u001b[39;49m\u001b[43mengine\u001b[49m\u001b[43m)\u001b[49m\n",
            "File \u001b[0;32m/lib/python3.11/site-packages/pandas/io/parsers/readers.py:1735\u001b[0m, in \u001b[0;36mTextFileReader._make_engine\u001b[0;34m(self, f, engine)\u001b[0m\n\u001b[1;32m   1733\u001b[0m     \u001b[38;5;28;01mif\u001b[39;00m \u001b[38;5;124m\"\u001b[39m\u001b[38;5;124mb\u001b[39m\u001b[38;5;124m\"\u001b[39m \u001b[38;5;129;01mnot\u001b[39;00m \u001b[38;5;129;01min\u001b[39;00m mode:\n\u001b[1;32m   1734\u001b[0m         mode \u001b[38;5;241m+\u001b[39m\u001b[38;5;241m=\u001b[39m \u001b[38;5;124m\"\u001b[39m\u001b[38;5;124mb\u001b[39m\u001b[38;5;124m\"\u001b[39m\n\u001b[0;32m-> 1735\u001b[0m \u001b[38;5;28mself\u001b[39m\u001b[38;5;241m.\u001b[39mhandles \u001b[38;5;241m=\u001b[39m \u001b[43mget_handle\u001b[49m\u001b[43m(\u001b[49m\n\u001b[1;32m   1736\u001b[0m \u001b[43m    \u001b[49m\u001b[43mf\u001b[49m\u001b[43m,\u001b[49m\n\u001b[1;32m   1737\u001b[0m \u001b[43m    \u001b[49m\u001b[43mmode\u001b[49m\u001b[43m,\u001b[49m\n\u001b[1;32m   1738\u001b[0m \u001b[43m    \u001b[49m\u001b[43mencoding\u001b[49m\u001b[38;5;241;43m=\u001b[39;49m\u001b[38;5;28;43mself\u001b[39;49m\u001b[38;5;241;43m.\u001b[39;49m\u001b[43moptions\u001b[49m\u001b[38;5;241;43m.\u001b[39;49m\u001b[43mget\u001b[49m\u001b[43m(\u001b[49m\u001b[38;5;124;43m\"\u001b[39;49m\u001b[38;5;124;43mencoding\u001b[39;49m\u001b[38;5;124;43m\"\u001b[39;49m\u001b[43m,\u001b[49m\u001b[43m \u001b[49m\u001b[38;5;28;43;01mNone\u001b[39;49;00m\u001b[43m)\u001b[49m\u001b[43m,\u001b[49m\n\u001b[1;32m   1739\u001b[0m \u001b[43m    \u001b[49m\u001b[43mcompression\u001b[49m\u001b[38;5;241;43m=\u001b[39;49m\u001b[38;5;28;43mself\u001b[39;49m\u001b[38;5;241;43m.\u001b[39;49m\u001b[43moptions\u001b[49m\u001b[38;5;241;43m.\u001b[39;49m\u001b[43mget\u001b[49m\u001b[43m(\u001b[49m\u001b[38;5;124;43m\"\u001b[39;49m\u001b[38;5;124;43mcompression\u001b[39;49m\u001b[38;5;124;43m\"\u001b[39;49m\u001b[43m,\u001b[49m\u001b[43m \u001b[49m\u001b[38;5;28;43;01mNone\u001b[39;49;00m\u001b[43m)\u001b[49m\u001b[43m,\u001b[49m\n\u001b[1;32m   1740\u001b[0m \u001b[43m    \u001b[49m\u001b[43mmemory_map\u001b[49m\u001b[38;5;241;43m=\u001b[39;49m\u001b[38;5;28;43mself\u001b[39;49m\u001b[38;5;241;43m.\u001b[39;49m\u001b[43moptions\u001b[49m\u001b[38;5;241;43m.\u001b[39;49m\u001b[43mget\u001b[49m\u001b[43m(\u001b[49m\u001b[38;5;124;43m\"\u001b[39;49m\u001b[38;5;124;43mmemory_map\u001b[39;49m\u001b[38;5;124;43m\"\u001b[39;49m\u001b[43m,\u001b[49m\u001b[43m \u001b[49m\u001b[38;5;28;43;01mFalse\u001b[39;49;00m\u001b[43m)\u001b[49m\u001b[43m,\u001b[49m\n\u001b[1;32m   1741\u001b[0m \u001b[43m    \u001b[49m\u001b[43mis_text\u001b[49m\u001b[38;5;241;43m=\u001b[39;49m\u001b[43mis_text\u001b[49m\u001b[43m,\u001b[49m\n\u001b[1;32m   1742\u001b[0m \u001b[43m    \u001b[49m\u001b[43merrors\u001b[49m\u001b[38;5;241;43m=\u001b[39;49m\u001b[38;5;28;43mself\u001b[39;49m\u001b[38;5;241;43m.\u001b[39;49m\u001b[43moptions\u001b[49m\u001b[38;5;241;43m.\u001b[39;49m\u001b[43mget\u001b[49m\u001b[43m(\u001b[49m\u001b[38;5;124;43m\"\u001b[39;49m\u001b[38;5;124;43mencoding_errors\u001b[39;49m\u001b[38;5;124;43m\"\u001b[39;49m\u001b[43m,\u001b[49m\u001b[43m \u001b[49m\u001b[38;5;124;43m\"\u001b[39;49m\u001b[38;5;124;43mstrict\u001b[39;49m\u001b[38;5;124;43m\"\u001b[39;49m\u001b[43m)\u001b[49m\u001b[43m,\u001b[49m\n\u001b[1;32m   1743\u001b[0m \u001b[43m    \u001b[49m\u001b[43mstorage_options\u001b[49m\u001b[38;5;241;43m=\u001b[39;49m\u001b[38;5;28;43mself\u001b[39;49m\u001b[38;5;241;43m.\u001b[39;49m\u001b[43moptions\u001b[49m\u001b[38;5;241;43m.\u001b[39;49m\u001b[43mget\u001b[49m\u001b[43m(\u001b[49m\u001b[38;5;124;43m\"\u001b[39;49m\u001b[38;5;124;43mstorage_options\u001b[39;49m\u001b[38;5;124;43m\"\u001b[39;49m\u001b[43m,\u001b[49m\u001b[43m \u001b[49m\u001b[38;5;28;43;01mNone\u001b[39;49;00m\u001b[43m)\u001b[49m\u001b[43m,\u001b[49m\n\u001b[1;32m   1744\u001b[0m \u001b[43m\u001b[49m\u001b[43m)\u001b[49m\n\u001b[1;32m   1745\u001b[0m \u001b[38;5;28;01massert\u001b[39;00m \u001b[38;5;28mself\u001b[39m\u001b[38;5;241m.\u001b[39mhandles \u001b[38;5;129;01mis\u001b[39;00m \u001b[38;5;129;01mnot\u001b[39;00m \u001b[38;5;28;01mNone\u001b[39;00m\n\u001b[1;32m   1746\u001b[0m f \u001b[38;5;241m=\u001b[39m \u001b[38;5;28mself\u001b[39m\u001b[38;5;241m.\u001b[39mhandles\u001b[38;5;241m.\u001b[39mhandle\n",
            "File \u001b[0;32m/lib/python3.11/site-packages/pandas/io/common.py:856\u001b[0m, in \u001b[0;36mget_handle\u001b[0;34m(path_or_buf, mode, encoding, compression, memory_map, is_text, errors, storage_options)\u001b[0m\n\u001b[1;32m    851\u001b[0m \u001b[38;5;28;01melif\u001b[39;00m \u001b[38;5;28misinstance\u001b[39m(handle, \u001b[38;5;28mstr\u001b[39m):\n\u001b[1;32m    852\u001b[0m     \u001b[38;5;66;03m# Check whether the filename is to be opened in binary mode.\u001b[39;00m\n\u001b[1;32m    853\u001b[0m     \u001b[38;5;66;03m# Binary mode does not support 'encoding' and 'newline'.\u001b[39;00m\n\u001b[1;32m    854\u001b[0m     \u001b[38;5;28;01mif\u001b[39;00m ioargs\u001b[38;5;241m.\u001b[39mencoding \u001b[38;5;129;01mand\u001b[39;00m \u001b[38;5;124m\"\u001b[39m\u001b[38;5;124mb\u001b[39m\u001b[38;5;124m\"\u001b[39m \u001b[38;5;129;01mnot\u001b[39;00m \u001b[38;5;129;01min\u001b[39;00m ioargs\u001b[38;5;241m.\u001b[39mmode:\n\u001b[1;32m    855\u001b[0m         \u001b[38;5;66;03m# Encoding\u001b[39;00m\n\u001b[0;32m--> 856\u001b[0m         handle \u001b[38;5;241m=\u001b[39m \u001b[38;5;28;43mopen\u001b[39;49m\u001b[43m(\u001b[49m\n\u001b[1;32m    857\u001b[0m \u001b[43m            \u001b[49m\u001b[43mhandle\u001b[49m\u001b[43m,\u001b[49m\n\u001b[1;32m    858\u001b[0m \u001b[43m            \u001b[49m\u001b[43mioargs\u001b[49m\u001b[38;5;241;43m.\u001b[39;49m\u001b[43mmode\u001b[49m\u001b[43m,\u001b[49m\n\u001b[1;32m    859\u001b[0m \u001b[43m            \u001b[49m\u001b[43mencoding\u001b[49m\u001b[38;5;241;43m=\u001b[39;49m\u001b[43mioargs\u001b[49m\u001b[38;5;241;43m.\u001b[39;49m\u001b[43mencoding\u001b[49m\u001b[43m,\u001b[49m\n\u001b[1;32m    860\u001b[0m \u001b[43m            \u001b[49m\u001b[43merrors\u001b[49m\u001b[38;5;241;43m=\u001b[39;49m\u001b[43merrors\u001b[49m\u001b[43m,\u001b[49m\n\u001b[1;32m    861\u001b[0m \u001b[43m            \u001b[49m\u001b[43mnewline\u001b[49m\u001b[38;5;241;43m=\u001b[39;49m\u001b[38;5;124;43m\"\u001b[39;49m\u001b[38;5;124;43m\"\u001b[39;49m\u001b[43m,\u001b[49m\n\u001b[1;32m    862\u001b[0m \u001b[43m        \u001b[49m\u001b[43m)\u001b[49m\n\u001b[1;32m    863\u001b[0m     \u001b[38;5;28;01melse\u001b[39;00m:\n\u001b[1;32m    864\u001b[0m         \u001b[38;5;66;03m# Binary mode\u001b[39;00m\n\u001b[1;32m    865\u001b[0m         handle \u001b[38;5;241m=\u001b[39m \u001b[38;5;28mopen\u001b[39m(handle, ioargs\u001b[38;5;241m.\u001b[39mmode)\n",
            "\u001b[0;31mFileNotFoundError\u001b[0m: [Errno 44] No such file or directory: 'esg13.csv'"
          ],
          "output_type": "error"
        }
      ],
      "id": "57153ef6-9519-49a6-bdb5-1dfbca74c707"
    },
    {
      "cell_type": "code",
      "source": "esg15=esg15.dropna()\nesg20=esg20.dropna()\nesg21=esg21.dropna()",
      "metadata": {
        "trusted": true
      },
      "execution_count": 4,
      "outputs": [
        {
          "ename": "<class 'NameError'>",
          "evalue": "name 'esg15' is not defined",
          "traceback": [
            "\u001b[0;31m---------------------------------------------------------------------------\u001b[0m",
            "\u001b[0;31mNameError\u001b[0m                                 Traceback (most recent call last)",
            "Cell \u001b[0;32mIn[4], line 1\u001b[0m\n\u001b[0;32m----> 1\u001b[0m esg15\u001b[38;5;241m=\u001b[39m\u001b[43mesg15\u001b[49m\u001b[38;5;241m.\u001b[39mdropna()\n\u001b[1;32m      2\u001b[0m esg20\u001b[38;5;241m=\u001b[39mesg20\u001b[38;5;241m.\u001b[39mdropna()\n\u001b[1;32m      3\u001b[0m esg21\u001b[38;5;241m=\u001b[39mesg21\u001b[38;5;241m.\u001b[39mdropna()\n",
            "\u001b[0;31mNameError\u001b[0m: name 'esg15' is not defined"
          ],
          "output_type": "error"
        }
      ],
      "id": "5ae82528-eb39-4bf7-8aa1-0d739978f0b1"
    },
    {
      "cell_type": "code",
      "source": "df=pd.concat([esg13,esg14,esg15,esg16,esg17,esg18,esg19,esg20,esg21],ignore_index=True,axis=0)",
      "metadata": {
        "trusted": true
      },
      "execution_count": 5,
      "outputs": [
        {
          "ename": "<class 'NameError'>",
          "evalue": "name 'esg13' is not defined",
          "traceback": [
            "\u001b[0;31m---------------------------------------------------------------------------\u001b[0m",
            "\u001b[0;31mNameError\u001b[0m                                 Traceback (most recent call last)",
            "Cell \u001b[0;32mIn[5], line 1\u001b[0m\n\u001b[0;32m----> 1\u001b[0m df\u001b[38;5;241m=\u001b[39mpd\u001b[38;5;241m.\u001b[39mconcat([\u001b[43mesg13\u001b[49m,esg14,esg15,esg16,esg17,esg18,esg19,esg20,esg21],ignore_index\u001b[38;5;241m=\u001b[39m\u001b[38;5;28;01mTrue\u001b[39;00m,axis\u001b[38;5;241m=\u001b[39m\u001b[38;5;241m0\u001b[39m)\n",
            "\u001b[0;31mNameError\u001b[0m: name 'esg13' is not defined"
          ],
          "output_type": "error"
        }
      ],
      "id": "916279d7-472e-4ec9-81ea-d5d4963bddd3"
    },
    {
      "cell_type": "code",
      "source": "df['cusip']=df['primary_isin'].str[2:11]",
      "metadata": {
        "trusted": true
      },
      "execution_count": 6,
      "outputs": [
        {
          "ename": "<class 'NameError'>",
          "evalue": "name 'df' is not defined",
          "traceback": [
            "\u001b[0;31m---------------------------------------------------------------------------\u001b[0m",
            "\u001b[0;31mNameError\u001b[0m                                 Traceback (most recent call last)",
            "Cell \u001b[0;32mIn[6], line 1\u001b[0m\n\u001b[0;32m----> 1\u001b[0m df[\u001b[38;5;124m'\u001b[39m\u001b[38;5;124mcusip\u001b[39m\u001b[38;5;124m'\u001b[39m]\u001b[38;5;241m=\u001b[39m\u001b[43mdf\u001b[49m[\u001b[38;5;124m'\u001b[39m\u001b[38;5;124mprimary_isin\u001b[39m\u001b[38;5;124m'\u001b[39m]\u001b[38;5;241m.\u001b[39mstr[\u001b[38;5;241m2\u001b[39m:\u001b[38;5;241m11\u001b[39m]\n",
            "\u001b[0;31mNameError\u001b[0m: name 'df' is not defined"
          ],
          "output_type": "error"
        }
      ],
      "id": "f8e47fb0-07ec-40be-9c2c-178d7413c6f6"
    },
    {
      "cell_type": "code",
      "source": "df=df.drop(columns=['reprisk_id','primary_isin'])",
      "metadata": {
        "trusted": true
      },
      "execution_count": 7,
      "outputs": [
        {
          "ename": "<class 'NameError'>",
          "evalue": "name 'df' is not defined",
          "traceback": [
            "\u001b[0;31m---------------------------------------------------------------------------\u001b[0m",
            "\u001b[0;31mNameError\u001b[0m                                 Traceback (most recent call last)",
            "Cell \u001b[0;32mIn[7], line 1\u001b[0m\n\u001b[0;32m----> 1\u001b[0m df\u001b[38;5;241m=\u001b[39m\u001b[43mdf\u001b[49m\u001b[38;5;241m.\u001b[39mdrop(columns\u001b[38;5;241m=\u001b[39m[\u001b[38;5;124m'\u001b[39m\u001b[38;5;124mreprisk_id\u001b[39m\u001b[38;5;124m'\u001b[39m,\u001b[38;5;124m'\u001b[39m\u001b[38;5;124mprimary_isin\u001b[39m\u001b[38;5;124m'\u001b[39m])\n",
            "\u001b[0;31mNameError\u001b[0m: name 'df' is not defined"
          ],
          "output_type": "error"
        }
      ],
      "id": "8f2c3c75-2d62-45c6-b6fa-74caccfcea49"
    },
    {
      "cell_type": "code",
      "source": "df['date']=pd.to_datetime(df['date'])",
      "metadata": {
        "trusted": true
      },
      "execution_count": 8,
      "outputs": [
        {
          "ename": "<class 'NameError'>",
          "evalue": "name 'df' is not defined",
          "traceback": [
            "\u001b[0;31m---------------------------------------------------------------------------\u001b[0m",
            "\u001b[0;31mNameError\u001b[0m                                 Traceback (most recent call last)",
            "Cell \u001b[0;32mIn[8], line 1\u001b[0m\n\u001b[0;32m----> 1\u001b[0m df[\u001b[38;5;124m'\u001b[39m\u001b[38;5;124mdate\u001b[39m\u001b[38;5;124m'\u001b[39m]\u001b[38;5;241m=\u001b[39mpd\u001b[38;5;241m.\u001b[39mto_datetime(\u001b[43mdf\u001b[49m[\u001b[38;5;124m'\u001b[39m\u001b[38;5;124mdate\u001b[39m\u001b[38;5;124m'\u001b[39m])\n",
            "\u001b[0;31mNameError\u001b[0m: name 'df' is not defined"
          ],
          "output_type": "error"
        }
      ],
      "id": "207d7679-818c-4506-be34-f9a1cb1634f8"
    },
    {
      "cell_type": "code",
      "source": "df['year']=pd.DatetimeIndex(df['date']).year",
      "metadata": {
        "trusted": true
      },
      "execution_count": 9,
      "outputs": [
        {
          "ename": "<class 'NameError'>",
          "evalue": "name 'df' is not defined",
          "traceback": [
            "\u001b[0;31m---------------------------------------------------------------------------\u001b[0m",
            "\u001b[0;31mNameError\u001b[0m                                 Traceback (most recent call last)",
            "Cell \u001b[0;32mIn[9], line 1\u001b[0m\n\u001b[0;32m----> 1\u001b[0m df[\u001b[38;5;124m'\u001b[39m\u001b[38;5;124myear\u001b[39m\u001b[38;5;124m'\u001b[39m]\u001b[38;5;241m=\u001b[39mpd\u001b[38;5;241m.\u001b[39mDatetimeIndex(\u001b[43mdf\u001b[49m[\u001b[38;5;124m'\u001b[39m\u001b[38;5;124mdate\u001b[39m\u001b[38;5;124m'\u001b[39m])\u001b[38;5;241m.\u001b[39myear\n",
            "\u001b[0;31mNameError\u001b[0m: name 'df' is not defined"
          ],
          "output_type": "error"
        }
      ],
      "id": "e085ded6-6f70-4f10-a1b8-135293e85480"
    },
    {
      "cell_type": "code",
      "source": "df.describe()",
      "metadata": {
        "trusted": true
      },
      "execution_count": 10,
      "outputs": [
        {
          "ename": "<class 'NameError'>",
          "evalue": "name 'df' is not defined",
          "traceback": [
            "\u001b[0;31m---------------------------------------------------------------------------\u001b[0m",
            "\u001b[0;31mNameError\u001b[0m                                 Traceback (most recent call last)",
            "Cell \u001b[0;32mIn[10], line 1\u001b[0m\n\u001b[0;32m----> 1\u001b[0m \u001b[43mdf\u001b[49m\u001b[38;5;241m.\u001b[39mdescribe()\n",
            "\u001b[0;31mNameError\u001b[0m: name 'df' is not defined"
          ],
          "output_type": "error"
        }
      ],
      "id": "c39fda16-b0c1-4025-be1f-0439b4dd39b5"
    },
    {
      "cell_type": "code",
      "source": "df",
      "metadata": {
        "trusted": true
      },
      "execution_count": 11,
      "outputs": [
        {
          "ename": "<class 'NameError'>",
          "evalue": "name 'df' is not defined",
          "traceback": [
            "\u001b[0;31m---------------------------------------------------------------------------\u001b[0m",
            "\u001b[0;31mNameError\u001b[0m                                 Traceback (most recent call last)",
            "Cell \u001b[0;32mIn[11], line 1\u001b[0m\n\u001b[0;32m----> 1\u001b[0m \u001b[43mdf\u001b[49m\n",
            "\u001b[0;31mNameError\u001b[0m: name 'df' is not defined"
          ],
          "output_type": "error"
        }
      ],
      "id": "061c6182-d23f-4083-8fae-46eb91b45600"
    },
    {
      "cell_type": "code",
      "source": "mnrri=df.groupby(['cusip','year'])[['current_rri']].mean()\nmnrri.rename({'current_rri':'mnrri'},axis=1,inplace=True)",
      "metadata": {
        "trusted": true
      },
      "execution_count": 12,
      "outputs": [
        {
          "ename": "<class 'NameError'>",
          "evalue": "name 'df' is not defined",
          "traceback": [
            "\u001b[0;31m---------------------------------------------------------------------------\u001b[0m",
            "\u001b[0;31mNameError\u001b[0m                                 Traceback (most recent call last)",
            "Cell \u001b[0;32mIn[12], line 1\u001b[0m\n\u001b[0;32m----> 1\u001b[0m mnrri\u001b[38;5;241m=\u001b[39m\u001b[43mdf\u001b[49m\u001b[38;5;241m.\u001b[39mgroupby([\u001b[38;5;124m'\u001b[39m\u001b[38;5;124mcusip\u001b[39m\u001b[38;5;124m'\u001b[39m,\u001b[38;5;124m'\u001b[39m\u001b[38;5;124myear\u001b[39m\u001b[38;5;124m'\u001b[39m])[[\u001b[38;5;124m'\u001b[39m\u001b[38;5;124mcurrent_rri\u001b[39m\u001b[38;5;124m'\u001b[39m]]\u001b[38;5;241m.\u001b[39mmean()\n\u001b[1;32m      2\u001b[0m mnrri\u001b[38;5;241m.\u001b[39mrename({\u001b[38;5;124m'\u001b[39m\u001b[38;5;124mcurrent_rri\u001b[39m\u001b[38;5;124m'\u001b[39m:\u001b[38;5;124m'\u001b[39m\u001b[38;5;124mmnrri\u001b[39m\u001b[38;5;124m'\u001b[39m},axis\u001b[38;5;241m=\u001b[39m\u001b[38;5;241m1\u001b[39m,inplace\u001b[38;5;241m=\u001b[39m\u001b[38;5;28;01mTrue\u001b[39;00m)\n",
            "\u001b[0;31mNameError\u001b[0m: name 'df' is not defined"
          ],
          "output_type": "error"
        }
      ],
      "id": "f0bcecf2-0ce8-484a-917a-b43593210d1c"
    },
    {
      "cell_type": "code",
      "source": "lastrri=df.sort_values(['cusip','date']).drop_duplicates(['cusip','year'],keep='first')",
      "metadata": {
        "trusted": true
      },
      "execution_count": 13,
      "outputs": [
        {
          "ename": "<class 'NameError'>",
          "evalue": "name 'df' is not defined",
          "traceback": [
            "\u001b[0;31m---------------------------------------------------------------------------\u001b[0m",
            "\u001b[0;31mNameError\u001b[0m                                 Traceback (most recent call last)",
            "Cell \u001b[0;32mIn[13], line 1\u001b[0m\n\u001b[0;32m----> 1\u001b[0m lastrri\u001b[38;5;241m=\u001b[39m\u001b[43mdf\u001b[49m\u001b[38;5;241m.\u001b[39msort_values([\u001b[38;5;124m'\u001b[39m\u001b[38;5;124mcusip\u001b[39m\u001b[38;5;124m'\u001b[39m,\u001b[38;5;124m'\u001b[39m\u001b[38;5;124mdate\u001b[39m\u001b[38;5;124m'\u001b[39m])\u001b[38;5;241m.\u001b[39mdrop_duplicates([\u001b[38;5;124m'\u001b[39m\u001b[38;5;124mcusip\u001b[39m\u001b[38;5;124m'\u001b[39m,\u001b[38;5;124m'\u001b[39m\u001b[38;5;124myear\u001b[39m\u001b[38;5;124m'\u001b[39m],keep\u001b[38;5;241m=\u001b[39m\u001b[38;5;124m'\u001b[39m\u001b[38;5;124mfirst\u001b[39m\u001b[38;5;124m'\u001b[39m)\n",
            "\u001b[0;31mNameError\u001b[0m: name 'df' is not defined"
          ],
          "output_type": "error"
        }
      ],
      "id": "78056f1e-5b46-4019-9823-e93a7ccbe015"
    },
    {
      "cell_type": "code",
      "source": "lastrri.rename({'current_rri':'lastrri'},axis=1,inplace=True)",
      "metadata": {
        "trusted": true
      },
      "execution_count": 14,
      "outputs": [
        {
          "ename": "<class 'NameError'>",
          "evalue": "name 'lastrri' is not defined",
          "traceback": [
            "\u001b[0;31m---------------------------------------------------------------------------\u001b[0m",
            "\u001b[0;31mNameError\u001b[0m                                 Traceback (most recent call last)",
            "Cell \u001b[0;32mIn[14], line 1\u001b[0m\n\u001b[0;32m----> 1\u001b[0m \u001b[43mlastrri\u001b[49m\u001b[38;5;241m.\u001b[39mrename({\u001b[38;5;124m'\u001b[39m\u001b[38;5;124mcurrent_rri\u001b[39m\u001b[38;5;124m'\u001b[39m:\u001b[38;5;124m'\u001b[39m\u001b[38;5;124mlastrri\u001b[39m\u001b[38;5;124m'\u001b[39m},axis\u001b[38;5;241m=\u001b[39m\u001b[38;5;241m1\u001b[39m,inplace\u001b[38;5;241m=\u001b[39m\u001b[38;5;28;01mTrue\u001b[39;00m)\n",
            "\u001b[0;31mNameError\u001b[0m: name 'lastrri' is not defined"
          ],
          "output_type": "error"
        }
      ],
      "id": "861ff5cf-014c-4707-9ddc-b1baf822d575"
    },
    {
      "cell_type": "code",
      "source": "rri=pd.merge(mnrri,lastrri,on=['cusip','year'])",
      "metadata": {
        "trusted": true
      },
      "execution_count": 15,
      "outputs": [
        {
          "ename": "<class 'NameError'>",
          "evalue": "name 'mnrri' is not defined",
          "traceback": [
            "\u001b[0;31m---------------------------------------------------------------------------\u001b[0m",
            "\u001b[0;31mNameError\u001b[0m                                 Traceback (most recent call last)",
            "Cell \u001b[0;32mIn[15], line 1\u001b[0m\n\u001b[0;32m----> 1\u001b[0m rri\u001b[38;5;241m=\u001b[39mpd\u001b[38;5;241m.\u001b[39mmerge(\u001b[43mmnrri\u001b[49m,lastrri,on\u001b[38;5;241m=\u001b[39m[\u001b[38;5;124m'\u001b[39m\u001b[38;5;124mcusip\u001b[39m\u001b[38;5;124m'\u001b[39m,\u001b[38;5;124m'\u001b[39m\u001b[38;5;124myear\u001b[39m\u001b[38;5;124m'\u001b[39m])\n",
            "\u001b[0;31mNameError\u001b[0m: name 'mnrri' is not defined"
          ],
          "output_type": "error"
        }
      ],
      "id": "604dfabe-eed3-4a5a-ae6a-224be1e1c6e7"
    },
    {
      "cell_type": "code",
      "source": "rri[['mnrri','lastrri']].corr()",
      "metadata": {
        "trusted": true
      },
      "execution_count": 16,
      "outputs": [
        {
          "ename": "<class 'NameError'>",
          "evalue": "name 'rri' is not defined",
          "traceback": [
            "\u001b[0;31m---------------------------------------------------------------------------\u001b[0m",
            "\u001b[0;31mNameError\u001b[0m                                 Traceback (most recent call last)",
            "Cell \u001b[0;32mIn[16], line 1\u001b[0m\n\u001b[0;32m----> 1\u001b[0m \u001b[43mrri\u001b[49m[[\u001b[38;5;124m'\u001b[39m\u001b[38;5;124mmnrri\u001b[39m\u001b[38;5;124m'\u001b[39m,\u001b[38;5;124m'\u001b[39m\u001b[38;5;124mlastrri\u001b[39m\u001b[38;5;124m'\u001b[39m]]\u001b[38;5;241m.\u001b[39mcorr()\n",
            "\u001b[0;31mNameError\u001b[0m: name 'rri' is not defined"
          ],
          "output_type": "error"
        }
      ],
      "id": "78b713c7-e954-4655-8fd6-60835cf3477a"
    },
    {
      "cell_type": "code",
      "source": "rri.to_csv('rri.csv',index=False)",
      "metadata": {
        "trusted": true
      },
      "execution_count": 17,
      "outputs": [
        {
          "ename": "<class 'NameError'>",
          "evalue": "name 'rri' is not defined",
          "traceback": [
            "\u001b[0;31m---------------------------------------------------------------------------\u001b[0m",
            "\u001b[0;31mNameError\u001b[0m                                 Traceback (most recent call last)",
            "Cell \u001b[0;32mIn[17], line 1\u001b[0m\n\u001b[0;32m----> 1\u001b[0m \u001b[43mrri\u001b[49m\u001b[38;5;241m.\u001b[39mto_csv(\u001b[38;5;124m'\u001b[39m\u001b[38;5;124mrri.csv\u001b[39m\u001b[38;5;124m'\u001b[39m,index\u001b[38;5;241m=\u001b[39m\u001b[38;5;28;01mFalse\u001b[39;00m)\n",
            "\u001b[0;31mNameError\u001b[0m: name 'rri' is not defined"
          ],
          "output_type": "error"
        }
      ],
      "id": "c9ee3c2a-98fa-44cb-8555-2af564a7f645"
    },
    {
      "cell_type": "code",
      "source": "import statsmodels.api as sm\nimport seaborn as sns\nfrom scipy.stats import mstats\nfrom scipy.stats.mstats import winsorize",
      "metadata": {
        "trusted": true
      },
      "execution_count": 18,
      "outputs": [
        {
          "ename": "<class 'ModuleNotFoundError'>",
          "evalue": "No module named 'seaborn'",
          "traceback": [
            "\u001b[0;31m---------------------------------------------------------------------------\u001b[0m",
            "\u001b[0;31mModuleNotFoundError\u001b[0m                       Traceback (most recent call last)",
            "Cell \u001b[0;32mIn[18], line 2\u001b[0m\n\u001b[1;32m      1\u001b[0m \u001b[38;5;28;01mimport\u001b[39;00m \u001b[38;5;21;01mstatsmodels\u001b[39;00m\u001b[38;5;21;01m.\u001b[39;00m\u001b[38;5;21;01mapi\u001b[39;00m \u001b[38;5;28;01mas\u001b[39;00m \u001b[38;5;21;01msm\u001b[39;00m\n\u001b[0;32m----> 2\u001b[0m \u001b[38;5;28;01mimport\u001b[39;00m \u001b[38;5;21;01mseaborn\u001b[39;00m \u001b[38;5;28;01mas\u001b[39;00m \u001b[38;5;21;01msns\u001b[39;00m\n\u001b[1;32m      3\u001b[0m \u001b[38;5;28;01mfrom\u001b[39;00m \u001b[38;5;21;01mscipy\u001b[39;00m\u001b[38;5;21;01m.\u001b[39;00m\u001b[38;5;21;01mstats\u001b[39;00m \u001b[38;5;28;01mimport\u001b[39;00m mstats\n\u001b[1;32m      4\u001b[0m \u001b[38;5;28;01mfrom\u001b[39;00m \u001b[38;5;21;01mscipy\u001b[39;00m\u001b[38;5;21;01m.\u001b[39;00m\u001b[38;5;21;01mstats\u001b[39;00m\u001b[38;5;21;01m.\u001b[39;00m\u001b[38;5;21;01mmstats\u001b[39;00m \u001b[38;5;28;01mimport\u001b[39;00m winsorize\n",
            "\u001b[0;31mModuleNotFoundError\u001b[0m: No module named 'seaborn'"
          ],
          "output_type": "error"
        }
      ],
      "id": "bee4e392-1b68-49b2-a1c1-889acb329800"
    },
    {
      "cell_type": "code",
      "source": "part2=pd.read_csv('part2.csv')\npart2.head()",
      "metadata": {
        "trusted": true
      },
      "execution_count": 19,
      "outputs": [
        {
          "execution_count": 19,
          "output_type": "execute_result",
          "data": {
            "text/plain": "   gvkey    datadate   fyear indfmt consol popsrc datafmt      cusip curcd  \\\n0   1004  2014-05-31  2013.0   INDL      C      D     STD  000361105   USD   \n1   1004  2015-05-31  2014.0   INDL      C      D     STD  000361105   USD   \n2   1004  2016-05-31  2015.0   INDL      C      D     STD  000361105   USD   \n3   1004  2017-05-31  2016.0   INDL      C      D     STD  000361105   USD   \n4   1004  2018-05-31  2017.0   INDL      C      D     STD  000361105   USD   \n\n       at  ...    ceq    csho     dt  ebitda  ppent    sale  xrd  costat  \\\n0  2199.5  ...  999.5  39.560  634.0   256.0  413.3  2035.0  NaN       A   \n1  1515.0  ...  845.1  35.423  154.0    83.7  295.0  1594.3  NaN       A   \n2  1442.1  ...  865.8  34.515  148.1   136.9  313.9  1662.6  NaN       A   \n3  1504.1  ...  914.2  34.354  157.3   148.2  361.5  1767.6  NaN       A   \n4  1524.7  ...  936.3  34.716  177.2   126.5  316.6  1748.3  NaN       A   \n\n  prcc_f   sic  \n0  24.30  5080  \n1  29.54  5080  \n2  24.41  5080  \n3  34.94  5080  \n4  44.69  5080  \n\n[5 rows x 21 columns]",
            "text/html": "<div>\n<style scoped>\n    .dataframe tbody tr th:only-of-type {\n        vertical-align: middle;\n    }\n\n    .dataframe tbody tr th {\n        vertical-align: top;\n    }\n\n    .dataframe thead th {\n        text-align: right;\n    }\n</style>\n<table border=\"1\" class=\"dataframe\">\n  <thead>\n    <tr style=\"text-align: right;\">\n      <th></th>\n      <th>gvkey</th>\n      <th>datadate</th>\n      <th>fyear</th>\n      <th>indfmt</th>\n      <th>consol</th>\n      <th>popsrc</th>\n      <th>datafmt</th>\n      <th>cusip</th>\n      <th>curcd</th>\n      <th>at</th>\n      <th>...</th>\n      <th>ceq</th>\n      <th>csho</th>\n      <th>dt</th>\n      <th>ebitda</th>\n      <th>ppent</th>\n      <th>sale</th>\n      <th>xrd</th>\n      <th>costat</th>\n      <th>prcc_f</th>\n      <th>sic</th>\n    </tr>\n  </thead>\n  <tbody>\n    <tr>\n      <th>0</th>\n      <td>1004</td>\n      <td>2014-05-31</td>\n      <td>2013.0</td>\n      <td>INDL</td>\n      <td>C</td>\n      <td>D</td>\n      <td>STD</td>\n      <td>000361105</td>\n      <td>USD</td>\n      <td>2199.5</td>\n      <td>...</td>\n      <td>999.5</td>\n      <td>39.560</td>\n      <td>634.0</td>\n      <td>256.0</td>\n      <td>413.3</td>\n      <td>2035.0</td>\n      <td>NaN</td>\n      <td>A</td>\n      <td>24.30</td>\n      <td>5080</td>\n    </tr>\n    <tr>\n      <th>1</th>\n      <td>1004</td>\n      <td>2015-05-31</td>\n      <td>2014.0</td>\n      <td>INDL</td>\n      <td>C</td>\n      <td>D</td>\n      <td>STD</td>\n      <td>000361105</td>\n      <td>USD</td>\n      <td>1515.0</td>\n      <td>...</td>\n      <td>845.1</td>\n      <td>35.423</td>\n      <td>154.0</td>\n      <td>83.7</td>\n      <td>295.0</td>\n      <td>1594.3</td>\n      <td>NaN</td>\n      <td>A</td>\n      <td>29.54</td>\n      <td>5080</td>\n    </tr>\n    <tr>\n      <th>2</th>\n      <td>1004</td>\n      <td>2016-05-31</td>\n      <td>2015.0</td>\n      <td>INDL</td>\n      <td>C</td>\n      <td>D</td>\n      <td>STD</td>\n      <td>000361105</td>\n      <td>USD</td>\n      <td>1442.1</td>\n      <td>...</td>\n      <td>865.8</td>\n      <td>34.515</td>\n      <td>148.1</td>\n      <td>136.9</td>\n      <td>313.9</td>\n      <td>1662.6</td>\n      <td>NaN</td>\n      <td>A</td>\n      <td>24.41</td>\n      <td>5080</td>\n    </tr>\n    <tr>\n      <th>3</th>\n      <td>1004</td>\n      <td>2017-05-31</td>\n      <td>2016.0</td>\n      <td>INDL</td>\n      <td>C</td>\n      <td>D</td>\n      <td>STD</td>\n      <td>000361105</td>\n      <td>USD</td>\n      <td>1504.1</td>\n      <td>...</td>\n      <td>914.2</td>\n      <td>34.354</td>\n      <td>157.3</td>\n      <td>148.2</td>\n      <td>361.5</td>\n      <td>1767.6</td>\n      <td>NaN</td>\n      <td>A</td>\n      <td>34.94</td>\n      <td>5080</td>\n    </tr>\n    <tr>\n      <th>4</th>\n      <td>1004</td>\n      <td>2018-05-31</td>\n      <td>2017.0</td>\n      <td>INDL</td>\n      <td>C</td>\n      <td>D</td>\n      <td>STD</td>\n      <td>000361105</td>\n      <td>USD</td>\n      <td>1524.7</td>\n      <td>...</td>\n      <td>936.3</td>\n      <td>34.716</td>\n      <td>177.2</td>\n      <td>126.5</td>\n      <td>316.6</td>\n      <td>1748.3</td>\n      <td>NaN</td>\n      <td>A</td>\n      <td>44.69</td>\n      <td>5080</td>\n    </tr>\n  </tbody>\n</table>\n<p>5 rows × 21 columns</p>\n</div>"
          },
          "metadata": {}
        }
      ],
      "id": "0dd9bbaa-781c-4b72-81e6-a3ebe39ca232"
    },
    {
      "cell_type": "code",
      "source": "part2 = part2[(part2['sic'] < 6000) | (part2['sic'] > 6999)]",
      "metadata": {
        "trusted": true
      },
      "execution_count": 20,
      "outputs": [],
      "id": "50b2f30e-adf5-48f3-b70d-6151261e7399"
    },
    {
      "cell_type": "code",
      "source": "part2=part2[part2['at']>10]",
      "metadata": {
        "trusted": true
      },
      "execution_count": 21,
      "outputs": [],
      "id": "e45c61ae-601e-401d-a4c1-d13042f8ed39"
    },
    {
      "cell_type": "code",
      "source": "part2=part2[part2['sale']>5]",
      "metadata": {
        "trusted": true
      },
      "execution_count": 22,
      "outputs": [],
      "id": "6c18de81-1582-4169-a6df-f2c7cd3322a3"
    },
    {
      "cell_type": "code",
      "source": "part2.dtypes",
      "metadata": {
        "trusted": true
      },
      "execution_count": 23,
      "outputs": [
        {
          "execution_count": 23,
          "output_type": "execute_result",
          "data": {
            "text/plain": "gvkey         int64\ndatadate     object\nfyear       float64\nindfmt       object\nconsol       object\npopsrc       object\ndatafmt      object\ncusip        object\ncurcd        object\nat          float64\ncapx        float64\nceq         float64\ncsho        float64\ndt          float64\nebitda      float64\nppent       float64\nsale        float64\nxrd         float64\ncostat       object\nprcc_f      float64\nsic           int64\ndtype: object"
          },
          "metadata": {}
        }
      ],
      "id": "958b61ed-d16e-4a8d-acf0-c05a8eadf157"
    },
    {
      "cell_type": "code",
      "source": "part2=part2.rename(columns={'fyear':'year'})",
      "metadata": {
        "trusted": true
      },
      "execution_count": 24,
      "outputs": [],
      "id": "8e29ef65-5a1d-4b6d-a083-f6cfa9d8339e"
    },
    {
      "cell_type": "code",
      "source": "part2.describe",
      "metadata": {
        "trusted": true
      },
      "execution_count": 25,
      "outputs": [
        {
          "execution_count": 25,
          "output_type": "execute_result",
          "data": {
            "text/plain": "<bound method NDFrame.describe of          gvkey    datadate    year indfmt consol popsrc datafmt      cusip  \\\n0         1004  2014-05-31  2013.0   INDL      C      D     STD  000361105   \n1         1004  2015-05-31  2014.0   INDL      C      D     STD  000361105   \n2         1004  2016-05-31  2015.0   INDL      C      D     STD  000361105   \n3         1004  2017-05-31  2016.0   INDL      C      D     STD  000361105   \n4         1004  2018-05-31  2017.0   INDL      C      D     STD  000361105   \n...        ...         ...     ...    ...    ...    ...     ...        ...   \n114779  351590  2019-12-31  2019.0   INDL      C      D     STD  23384L101   \n114780  351590  2020-12-31  2020.0   INDL      C      D     STD  23384L101   \n114781  351590  2021-12-31  2021.0   INDL      C      D     STD  23384L101   \n114782  353444  2021-12-31  2021.0   INDL      C      D     STD  405552100   \n114783  353945  2021-12-31  2021.0   INDL      C      D     STD  00449R109   \n\n       curcd         at  ...        ceq      csho         dt    ebitda  \\\n0        USD   2199.500  ...    999.500    39.560    634.000   256.000   \n1        USD   1515.000  ...    845.100    35.423    154.000    83.700   \n2        USD   1442.100  ...    865.800    34.515    148.100   136.900   \n3        USD   1504.100  ...    914.200    34.354    157.300   148.200   \n4        USD   1524.700  ...    936.300    34.716    177.200   126.500   \n...      ...        ...  ...        ...       ...        ...       ...   \n114779   USD  62131.888  ...  11054.622       NaN  26142.367  4993.713   \n114780   USD  60256.041  ...   9914.300       NaN  24769.477  2798.907   \n114781   USD  62325.449  ...  18106.225  1645.904  18878.470  3911.262   \n114782   USD  46650.099  ...  35687.306     0.500    158.430  3179.428   \n114783   USD    686.085  ...    288.849       NaN    123.181   206.493   \n\n            ppent       sale       xrd  costat   prcc_f   sic  \n0         413.300   2035.000       NaN       A  24.3000  5080  \n1         295.000   1594.300       NaN       A  29.5400  5080  \n2         313.900   1662.600       NaN       A  24.4100  5080  \n3         361.500   1767.600       NaN       A  34.9400  5080  \n4         316.600   1748.300       NaN       A  44.6900  5080  \n...           ...        ...       ...     ...      ...   ...  \n114779  14321.295  51894.216  1865.068       A      NaN  3713  \n114780  14012.612  43409.566  1715.264       A      NaN  3713  \n114781  12967.787  45224.620  1589.981       A  18.4389  3713  \n114782   2250.514  12924.885   348.004       A      NaN  2834  \n114783    176.083    756.466    51.626       A      NaN  3621  \n\n[42049 rows x 21 columns]>"
          },
          "metadata": {}
        }
      ],
      "id": "70f4bce2-4e23-4ef8-8820-35a108660648"
    },
    {
      "cell_type": "code",
      "source": "part2.head()",
      "metadata": {
        "trusted": true
      },
      "execution_count": 26,
      "outputs": [
        {
          "execution_count": 26,
          "output_type": "execute_result",
          "data": {
            "text/plain": "   gvkey    datadate    year indfmt consol popsrc datafmt      cusip curcd  \\\n0   1004  2014-05-31  2013.0   INDL      C      D     STD  000361105   USD   \n1   1004  2015-05-31  2014.0   INDL      C      D     STD  000361105   USD   \n2   1004  2016-05-31  2015.0   INDL      C      D     STD  000361105   USD   \n3   1004  2017-05-31  2016.0   INDL      C      D     STD  000361105   USD   \n4   1004  2018-05-31  2017.0   INDL      C      D     STD  000361105   USD   \n\n       at  ...    ceq    csho     dt  ebitda  ppent    sale  xrd  costat  \\\n0  2199.5  ...  999.5  39.560  634.0   256.0  413.3  2035.0  NaN       A   \n1  1515.0  ...  845.1  35.423  154.0    83.7  295.0  1594.3  NaN       A   \n2  1442.1  ...  865.8  34.515  148.1   136.9  313.9  1662.6  NaN       A   \n3  1504.1  ...  914.2  34.354  157.3   148.2  361.5  1767.6  NaN       A   \n4  1524.7  ...  936.3  34.716  177.2   126.5  316.6  1748.3  NaN       A   \n\n  prcc_f   sic  \n0  24.30  5080  \n1  29.54  5080  \n2  24.41  5080  \n3  34.94  5080  \n4  44.69  5080  \n\n[5 rows x 21 columns]",
            "text/html": "<div>\n<style scoped>\n    .dataframe tbody tr th:only-of-type {\n        vertical-align: middle;\n    }\n\n    .dataframe tbody tr th {\n        vertical-align: top;\n    }\n\n    .dataframe thead th {\n        text-align: right;\n    }\n</style>\n<table border=\"1\" class=\"dataframe\">\n  <thead>\n    <tr style=\"text-align: right;\">\n      <th></th>\n      <th>gvkey</th>\n      <th>datadate</th>\n      <th>year</th>\n      <th>indfmt</th>\n      <th>consol</th>\n      <th>popsrc</th>\n      <th>datafmt</th>\n      <th>cusip</th>\n      <th>curcd</th>\n      <th>at</th>\n      <th>...</th>\n      <th>ceq</th>\n      <th>csho</th>\n      <th>dt</th>\n      <th>ebitda</th>\n      <th>ppent</th>\n      <th>sale</th>\n      <th>xrd</th>\n      <th>costat</th>\n      <th>prcc_f</th>\n      <th>sic</th>\n    </tr>\n  </thead>\n  <tbody>\n    <tr>\n      <th>0</th>\n      <td>1004</td>\n      <td>2014-05-31</td>\n      <td>2013.0</td>\n      <td>INDL</td>\n      <td>C</td>\n      <td>D</td>\n      <td>STD</td>\n      <td>000361105</td>\n      <td>USD</td>\n      <td>2199.5</td>\n      <td>...</td>\n      <td>999.5</td>\n      <td>39.560</td>\n      <td>634.0</td>\n      <td>256.0</td>\n      <td>413.3</td>\n      <td>2035.0</td>\n      <td>NaN</td>\n      <td>A</td>\n      <td>24.30</td>\n      <td>5080</td>\n    </tr>\n    <tr>\n      <th>1</th>\n      <td>1004</td>\n      <td>2015-05-31</td>\n      <td>2014.0</td>\n      <td>INDL</td>\n      <td>C</td>\n      <td>D</td>\n      <td>STD</td>\n      <td>000361105</td>\n      <td>USD</td>\n      <td>1515.0</td>\n      <td>...</td>\n      <td>845.1</td>\n      <td>35.423</td>\n      <td>154.0</td>\n      <td>83.7</td>\n      <td>295.0</td>\n      <td>1594.3</td>\n      <td>NaN</td>\n      <td>A</td>\n      <td>29.54</td>\n      <td>5080</td>\n    </tr>\n    <tr>\n      <th>2</th>\n      <td>1004</td>\n      <td>2016-05-31</td>\n      <td>2015.0</td>\n      <td>INDL</td>\n      <td>C</td>\n      <td>D</td>\n      <td>STD</td>\n      <td>000361105</td>\n      <td>USD</td>\n      <td>1442.1</td>\n      <td>...</td>\n      <td>865.8</td>\n      <td>34.515</td>\n      <td>148.1</td>\n      <td>136.9</td>\n      <td>313.9</td>\n      <td>1662.6</td>\n      <td>NaN</td>\n      <td>A</td>\n      <td>24.41</td>\n      <td>5080</td>\n    </tr>\n    <tr>\n      <th>3</th>\n      <td>1004</td>\n      <td>2017-05-31</td>\n      <td>2016.0</td>\n      <td>INDL</td>\n      <td>C</td>\n      <td>D</td>\n      <td>STD</td>\n      <td>000361105</td>\n      <td>USD</td>\n      <td>1504.1</td>\n      <td>...</td>\n      <td>914.2</td>\n      <td>34.354</td>\n      <td>157.3</td>\n      <td>148.2</td>\n      <td>361.5</td>\n      <td>1767.6</td>\n      <td>NaN</td>\n      <td>A</td>\n      <td>34.94</td>\n      <td>5080</td>\n    </tr>\n    <tr>\n      <th>4</th>\n      <td>1004</td>\n      <td>2018-05-31</td>\n      <td>2017.0</td>\n      <td>INDL</td>\n      <td>C</td>\n      <td>D</td>\n      <td>STD</td>\n      <td>000361105</td>\n      <td>USD</td>\n      <td>1524.7</td>\n      <td>...</td>\n      <td>936.3</td>\n      <td>34.716</td>\n      <td>177.2</td>\n      <td>126.5</td>\n      <td>316.6</td>\n      <td>1748.3</td>\n      <td>NaN</td>\n      <td>A</td>\n      <td>44.69</td>\n      <td>5080</td>\n    </tr>\n  </tbody>\n</table>\n<p>5 rows × 21 columns</p>\n</div>"
          },
          "metadata": {}
        }
      ],
      "id": "d5ef3ce9-668b-4f53-8547-822eb7eb8690"
    },
    {
      "cell_type": "code",
      "source": "part2=part2[['year','at','sale','ceq','csho','prcc_f','ppent','dt','ebitda','xrd','capx','sic','cusip']]",
      "metadata": {
        "trusted": true
      },
      "execution_count": 27,
      "outputs": [],
      "id": "fd7cc698-038a-424f-93cb-8ec87b8a2fa7"
    },
    {
      "cell_type": "code",
      "source": "part2.head()",
      "metadata": {
        "trusted": true
      },
      "execution_count": 28,
      "outputs": [
        {
          "execution_count": 28,
          "output_type": "execute_result",
          "data": {
            "text/plain": "     year      at    sale    ceq    csho  prcc_f  ppent     dt  ebitda  xrd  \\\n0  2013.0  2199.5  2035.0  999.5  39.560   24.30  413.3  634.0   256.0  NaN   \n1  2014.0  1515.0  1594.3  845.1  35.423   29.54  295.0  154.0    83.7  NaN   \n2  2015.0  1442.1  1662.6  865.8  34.515   24.41  313.9  148.1   136.9  NaN   \n3  2016.0  1504.1  1767.6  914.2  34.354   34.94  361.5  157.3   148.2  NaN   \n4  2017.0  1524.7  1748.3  936.3  34.716   44.69  316.6  177.2   126.5  NaN   \n\n   capx   sic      cusip  \n0  26.5  5080  000361105  \n1  46.3  5080  000361105  \n2  88.4  5080  000361105  \n3  33.6  5080  000361105  \n4  22.0  5080  000361105  ",
            "text/html": "<div>\n<style scoped>\n    .dataframe tbody tr th:only-of-type {\n        vertical-align: middle;\n    }\n\n    .dataframe tbody tr th {\n        vertical-align: top;\n    }\n\n    .dataframe thead th {\n        text-align: right;\n    }\n</style>\n<table border=\"1\" class=\"dataframe\">\n  <thead>\n    <tr style=\"text-align: right;\">\n      <th></th>\n      <th>year</th>\n      <th>at</th>\n      <th>sale</th>\n      <th>ceq</th>\n      <th>csho</th>\n      <th>prcc_f</th>\n      <th>ppent</th>\n      <th>dt</th>\n      <th>ebitda</th>\n      <th>xrd</th>\n      <th>capx</th>\n      <th>sic</th>\n      <th>cusip</th>\n    </tr>\n  </thead>\n  <tbody>\n    <tr>\n      <th>0</th>\n      <td>2013.0</td>\n      <td>2199.5</td>\n      <td>2035.0</td>\n      <td>999.5</td>\n      <td>39.560</td>\n      <td>24.30</td>\n      <td>413.3</td>\n      <td>634.0</td>\n      <td>256.0</td>\n      <td>NaN</td>\n      <td>26.5</td>\n      <td>5080</td>\n      <td>000361105</td>\n    </tr>\n    <tr>\n      <th>1</th>\n      <td>2014.0</td>\n      <td>1515.0</td>\n      <td>1594.3</td>\n      <td>845.1</td>\n      <td>35.423</td>\n      <td>29.54</td>\n      <td>295.0</td>\n      <td>154.0</td>\n      <td>83.7</td>\n      <td>NaN</td>\n      <td>46.3</td>\n      <td>5080</td>\n      <td>000361105</td>\n    </tr>\n    <tr>\n      <th>2</th>\n      <td>2015.0</td>\n      <td>1442.1</td>\n      <td>1662.6</td>\n      <td>865.8</td>\n      <td>34.515</td>\n      <td>24.41</td>\n      <td>313.9</td>\n      <td>148.1</td>\n      <td>136.9</td>\n      <td>NaN</td>\n      <td>88.4</td>\n      <td>5080</td>\n      <td>000361105</td>\n    </tr>\n    <tr>\n      <th>3</th>\n      <td>2016.0</td>\n      <td>1504.1</td>\n      <td>1767.6</td>\n      <td>914.2</td>\n      <td>34.354</td>\n      <td>34.94</td>\n      <td>361.5</td>\n      <td>157.3</td>\n      <td>148.2</td>\n      <td>NaN</td>\n      <td>33.6</td>\n      <td>5080</td>\n      <td>000361105</td>\n    </tr>\n    <tr>\n      <th>4</th>\n      <td>2017.0</td>\n      <td>1524.7</td>\n      <td>1748.3</td>\n      <td>936.3</td>\n      <td>34.716</td>\n      <td>44.69</td>\n      <td>316.6</td>\n      <td>177.2</td>\n      <td>126.5</td>\n      <td>NaN</td>\n      <td>22.0</td>\n      <td>5080</td>\n      <td>000361105</td>\n    </tr>\n  </tbody>\n</table>\n</div>"
          },
          "metadata": {}
        }
      ],
      "id": "bd4edd2d-3d00-4b32-a490-ca982e8c2677"
    },
    {
      "cell_type": "code",
      "source": "part2['xrd'].notnull().sum()",
      "metadata": {
        "trusted": true
      },
      "execution_count": 29,
      "outputs": [
        {
          "execution_count": 29,
          "output_type": "execute_result",
          "data": {
            "text/plain": "22964"
          },
          "metadata": {}
        }
      ],
      "id": "6ec2ff10-8a8d-407e-928f-89c216e6a3dd"
    },
    {
      "cell_type": "code",
      "source": "part2['xrd']=part2['xrd'].fillna(0)",
      "metadata": {
        "trusted": true
      },
      "execution_count": 31,
      "outputs": [
        {
          "name": "stderr",
          "text": "<ipython-input-31-d5864ea9f8a3>:1: SettingWithCopyWarning: \nA value is trying to be set on a copy of a slice from a DataFrame.\nTry using .loc[row_indexer,col_indexer] = value instead\n\nSee the caveats in the documentation: https://pandas.pydata.org/pandas-docs/stable/user_guide/indexing.html#returning-a-view-versus-a-copy\n  part2['xrd']=part2['xrd'].fillna(0)\n",
          "output_type": "stream"
        }
      ],
      "id": "2ed70c99-40d6-4f71-8263-7b0d8d6040ba"
    },
    {
      "cell_type": "code",
      "source": "part2.head()",
      "metadata": {
        "trusted": true
      },
      "execution_count": 32,
      "outputs": [
        {
          "execution_count": 32,
          "output_type": "execute_result",
          "data": {
            "text/plain": "     year      at    sale    ceq    csho  prcc_f  ppent     dt  ebitda  xrd  \\\n0  2013.0  2199.5  2035.0  999.5  39.560   24.30  413.3  634.0   256.0  0.0   \n1  2014.0  1515.0  1594.3  845.1  35.423   29.54  295.0  154.0    83.7  0.0   \n2  2015.0  1442.1  1662.6  865.8  34.515   24.41  313.9  148.1   136.9  0.0   \n3  2016.0  1504.1  1767.6  914.2  34.354   34.94  361.5  157.3   148.2  0.0   \n4  2017.0  1524.7  1748.3  936.3  34.716   44.69  316.6  177.2   126.5  0.0   \n\n   capx   sic      cusip  \n0  26.5  5080  000361105  \n1  46.3  5080  000361105  \n2  88.4  5080  000361105  \n3  33.6  5080  000361105  \n4  22.0  5080  000361105  ",
            "text/html": "<div>\n<style scoped>\n    .dataframe tbody tr th:only-of-type {\n        vertical-align: middle;\n    }\n\n    .dataframe tbody tr th {\n        vertical-align: top;\n    }\n\n    .dataframe thead th {\n        text-align: right;\n    }\n</style>\n<table border=\"1\" class=\"dataframe\">\n  <thead>\n    <tr style=\"text-align: right;\">\n      <th></th>\n      <th>year</th>\n      <th>at</th>\n      <th>sale</th>\n      <th>ceq</th>\n      <th>csho</th>\n      <th>prcc_f</th>\n      <th>ppent</th>\n      <th>dt</th>\n      <th>ebitda</th>\n      <th>xrd</th>\n      <th>capx</th>\n      <th>sic</th>\n      <th>cusip</th>\n    </tr>\n  </thead>\n  <tbody>\n    <tr>\n      <th>0</th>\n      <td>2013.0</td>\n      <td>2199.5</td>\n      <td>2035.0</td>\n      <td>999.5</td>\n      <td>39.560</td>\n      <td>24.30</td>\n      <td>413.3</td>\n      <td>634.0</td>\n      <td>256.0</td>\n      <td>0.0</td>\n      <td>26.5</td>\n      <td>5080</td>\n      <td>000361105</td>\n    </tr>\n    <tr>\n      <th>1</th>\n      <td>2014.0</td>\n      <td>1515.0</td>\n      <td>1594.3</td>\n      <td>845.1</td>\n      <td>35.423</td>\n      <td>29.54</td>\n      <td>295.0</td>\n      <td>154.0</td>\n      <td>83.7</td>\n      <td>0.0</td>\n      <td>46.3</td>\n      <td>5080</td>\n      <td>000361105</td>\n    </tr>\n    <tr>\n      <th>2</th>\n      <td>2015.0</td>\n      <td>1442.1</td>\n      <td>1662.6</td>\n      <td>865.8</td>\n      <td>34.515</td>\n      <td>24.41</td>\n      <td>313.9</td>\n      <td>148.1</td>\n      <td>136.9</td>\n      <td>0.0</td>\n      <td>88.4</td>\n      <td>5080</td>\n      <td>000361105</td>\n    </tr>\n    <tr>\n      <th>3</th>\n      <td>2016.0</td>\n      <td>1504.1</td>\n      <td>1767.6</td>\n      <td>914.2</td>\n      <td>34.354</td>\n      <td>34.94</td>\n      <td>361.5</td>\n      <td>157.3</td>\n      <td>148.2</td>\n      <td>0.0</td>\n      <td>33.6</td>\n      <td>5080</td>\n      <td>000361105</td>\n    </tr>\n    <tr>\n      <th>4</th>\n      <td>2017.0</td>\n      <td>1524.7</td>\n      <td>1748.3</td>\n      <td>936.3</td>\n      <td>34.716</td>\n      <td>44.69</td>\n      <td>316.6</td>\n      <td>177.2</td>\n      <td>126.5</td>\n      <td>0.0</td>\n      <td>22.0</td>\n      <td>5080</td>\n      <td>000361105</td>\n    </tr>\n  </tbody>\n</table>\n</div>"
          },
          "metadata": {}
        }
      ],
      "id": "29cc5425-b14a-44b5-bdbb-6b9f22d7adc7"
    },
    {
      "cell_type": "code",
      "source": "temp=part2['xrd'].tolist()",
      "metadata": {
        "trusted": true
      },
      "execution_count": 33,
      "outputs": [],
      "id": "3d5ce089-8f1c-43c3-ad9a-1270982b4afb"
    },
    {
      "cell_type": "code",
      "source": "for i in range(len(temp)):\n    if temp[i]<0:\n        temp[i]=0",
      "metadata": {
        "trusted": true
      },
      "execution_count": 34,
      "outputs": [],
      "id": "f911a103-480d-4b97-a317-c2d6851f4a49"
    },
    {
      "cell_type": "code",
      "source": "part2['xrd']=temp",
      "metadata": {
        "trusted": true
      },
      "execution_count": 35,
      "outputs": [
        {
          "name": "stderr",
          "text": "<ipython-input-35-45ca84eb32ff>:1: SettingWithCopyWarning: \nA value is trying to be set on a copy of a slice from a DataFrame.\nTry using .loc[row_indexer,col_indexer] = value instead\n\nSee the caveats in the documentation: https://pandas.pydata.org/pandas-docs/stable/user_guide/indexing.html#returning-a-view-versus-a-copy\n  part2['xrd']=temp\n",
          "output_type": "stream"
        }
      ],
      "id": "ddaa6ad5-9b0c-41e4-864a-8483c7b452d4"
    },
    {
      "cell_type": "code",
      "source": "part2.head()",
      "metadata": {
        "trusted": true
      },
      "execution_count": 36,
      "outputs": [
        {
          "execution_count": 36,
          "output_type": "execute_result",
          "data": {
            "text/plain": "     year      at    sale    ceq    csho  prcc_f  ppent     dt  ebitda  xrd  \\\n0  2013.0  2199.5  2035.0  999.5  39.560   24.30  413.3  634.0   256.0  0.0   \n1  2014.0  1515.0  1594.3  845.1  35.423   29.54  295.0  154.0    83.7  0.0   \n2  2015.0  1442.1  1662.6  865.8  34.515   24.41  313.9  148.1   136.9  0.0   \n3  2016.0  1504.1  1767.6  914.2  34.354   34.94  361.5  157.3   148.2  0.0   \n4  2017.0  1524.7  1748.3  936.3  34.716   44.69  316.6  177.2   126.5  0.0   \n\n   capx   sic      cusip  \n0  26.5  5080  000361105  \n1  46.3  5080  000361105  \n2  88.4  5080  000361105  \n3  33.6  5080  000361105  \n4  22.0  5080  000361105  ",
            "text/html": "<div>\n<style scoped>\n    .dataframe tbody tr th:only-of-type {\n        vertical-align: middle;\n    }\n\n    .dataframe tbody tr th {\n        vertical-align: top;\n    }\n\n    .dataframe thead th {\n        text-align: right;\n    }\n</style>\n<table border=\"1\" class=\"dataframe\">\n  <thead>\n    <tr style=\"text-align: right;\">\n      <th></th>\n      <th>year</th>\n      <th>at</th>\n      <th>sale</th>\n      <th>ceq</th>\n      <th>csho</th>\n      <th>prcc_f</th>\n      <th>ppent</th>\n      <th>dt</th>\n      <th>ebitda</th>\n      <th>xrd</th>\n      <th>capx</th>\n      <th>sic</th>\n      <th>cusip</th>\n    </tr>\n  </thead>\n  <tbody>\n    <tr>\n      <th>0</th>\n      <td>2013.0</td>\n      <td>2199.5</td>\n      <td>2035.0</td>\n      <td>999.5</td>\n      <td>39.560</td>\n      <td>24.30</td>\n      <td>413.3</td>\n      <td>634.0</td>\n      <td>256.0</td>\n      <td>0.0</td>\n      <td>26.5</td>\n      <td>5080</td>\n      <td>000361105</td>\n    </tr>\n    <tr>\n      <th>1</th>\n      <td>2014.0</td>\n      <td>1515.0</td>\n      <td>1594.3</td>\n      <td>845.1</td>\n      <td>35.423</td>\n      <td>29.54</td>\n      <td>295.0</td>\n      <td>154.0</td>\n      <td>83.7</td>\n      <td>0.0</td>\n      <td>46.3</td>\n      <td>5080</td>\n      <td>000361105</td>\n    </tr>\n    <tr>\n      <th>2</th>\n      <td>2015.0</td>\n      <td>1442.1</td>\n      <td>1662.6</td>\n      <td>865.8</td>\n      <td>34.515</td>\n      <td>24.41</td>\n      <td>313.9</td>\n      <td>148.1</td>\n      <td>136.9</td>\n      <td>0.0</td>\n      <td>88.4</td>\n      <td>5080</td>\n      <td>000361105</td>\n    </tr>\n    <tr>\n      <th>3</th>\n      <td>2016.0</td>\n      <td>1504.1</td>\n      <td>1767.6</td>\n      <td>914.2</td>\n      <td>34.354</td>\n      <td>34.94</td>\n      <td>361.5</td>\n      <td>157.3</td>\n      <td>148.2</td>\n      <td>0.0</td>\n      <td>33.6</td>\n      <td>5080</td>\n      <td>000361105</td>\n    </tr>\n    <tr>\n      <th>4</th>\n      <td>2017.0</td>\n      <td>1524.7</td>\n      <td>1748.3</td>\n      <td>936.3</td>\n      <td>34.716</td>\n      <td>44.69</td>\n      <td>316.6</td>\n      <td>177.2</td>\n      <td>126.5</td>\n      <td>0.0</td>\n      <td>22.0</td>\n      <td>5080</td>\n      <td>000361105</td>\n    </tr>\n  </tbody>\n</table>\n</div>"
          },
          "metadata": {}
        }
      ],
      "id": "441320c1-d1f6-48ea-a6e6-24825cfe4ef3"
    },
    {
      "cell_type": "code",
      "source": "part2['atng']=part2['ppent']/part2['at']",
      "metadata": {
        "trusted": true
      },
      "execution_count": 37,
      "outputs": [
        {
          "name": "stderr",
          "text": "<ipython-input-37-ee402d4891f4>:1: SettingWithCopyWarning: \nA value is trying to be set on a copy of a slice from a DataFrame.\nTry using .loc[row_indexer,col_indexer] = value instead\n\nSee the caveats in the documentation: https://pandas.pydata.org/pandas-docs/stable/user_guide/indexing.html#returning-a-view-versus-a-copy\n  part2['atng']=part2['ppent']/part2['at']\n",
          "output_type": "stream"
        }
      ],
      "id": "b52ef62d-218b-4ff4-a986-c06540b9d788"
    },
    {
      "cell_type": "code",
      "source": "part2['totdr']=part2['dt']/part2['at']\npart2['capxr']=part2['capx']/part2['sale']\npart2['rdr']=part2['xrd']/part2['sale']\npart2['prof']=part2['ebitda']/part2['sale']\npart2['size']=np.log(part2['sale'])\npart2['Q']=(part2['at']-part2['ceq']+part2['prcc_f']*part2['csho'])/part2['at']",
      "metadata": {
        "trusted": true
      },
      "execution_count": 38,
      "outputs": [
        {
          "name": "stderr",
          "text": "<ipython-input-38-fc61c1cfc42f>:1: SettingWithCopyWarning: \nA value is trying to be set on a copy of a slice from a DataFrame.\nTry using .loc[row_indexer,col_indexer] = value instead\n\nSee the caveats in the documentation: https://pandas.pydata.org/pandas-docs/stable/user_guide/indexing.html#returning-a-view-versus-a-copy\n  part2['totdr']=part2['dt']/part2['at']\n<ipython-input-38-fc61c1cfc42f>:2: SettingWithCopyWarning: \nA value is trying to be set on a copy of a slice from a DataFrame.\nTry using .loc[row_indexer,col_indexer] = value instead\n\nSee the caveats in the documentation: https://pandas.pydata.org/pandas-docs/stable/user_guide/indexing.html#returning-a-view-versus-a-copy\n  part2['capxr']=part2['capx']/part2['sale']\n<ipython-input-38-fc61c1cfc42f>:3: SettingWithCopyWarning: \nA value is trying to be set on a copy of a slice from a DataFrame.\nTry using .loc[row_indexer,col_indexer] = value instead\n\nSee the caveats in the documentation: https://pandas.pydata.org/pandas-docs/stable/user_guide/indexing.html#returning-a-view-versus-a-copy\n  part2['rdr']=part2['xrd']/part2['sale']\n<ipython-input-38-fc61c1cfc42f>:4: SettingWithCopyWarning: \nA value is trying to be set on a copy of a slice from a DataFrame.\nTry using .loc[row_indexer,col_indexer] = value instead\n\nSee the caveats in the documentation: https://pandas.pydata.org/pandas-docs/stable/user_guide/indexing.html#returning-a-view-versus-a-copy\n  part2['prof']=part2['ebitda']/part2['sale']\n<ipython-input-38-fc61c1cfc42f>:5: SettingWithCopyWarning: \nA value is trying to be set on a copy of a slice from a DataFrame.\nTry using .loc[row_indexer,col_indexer] = value instead\n\nSee the caveats in the documentation: https://pandas.pydata.org/pandas-docs/stable/user_guide/indexing.html#returning-a-view-versus-a-copy\n  part2['size']=np.log(part2['sale'])\n<ipython-input-38-fc61c1cfc42f>:6: SettingWithCopyWarning: \nA value is trying to be set on a copy of a slice from a DataFrame.\nTry using .loc[row_indexer,col_indexer] = value instead\n\nSee the caveats in the documentation: https://pandas.pydata.org/pandas-docs/stable/user_guide/indexing.html#returning-a-view-versus-a-copy\n  part2['Q']=(part2['at']-part2['ceq']+part2['prcc_f']*part2['csho'])/part2['at']\n",
          "output_type": "stream"
        }
      ],
      "id": "6a676fbb-ab56-4df1-bf22-2d130798cf7f"
    },
    {
      "cell_type": "code",
      "source": "part2.head()",
      "metadata": {
        "trusted": true
      },
      "execution_count": 39,
      "outputs": [
        {
          "execution_count": 39,
          "output_type": "execute_result",
          "data": {
            "text/plain": "     year      at    sale    ceq    csho  prcc_f  ppent     dt  ebitda  xrd  \\\n0  2013.0  2199.5  2035.0  999.5  39.560   24.30  413.3  634.0   256.0  0.0   \n1  2014.0  1515.0  1594.3  845.1  35.423   29.54  295.0  154.0    83.7  0.0   \n2  2015.0  1442.1  1662.6  865.8  34.515   24.41  313.9  148.1   136.9  0.0   \n3  2016.0  1504.1  1767.6  914.2  34.354   34.94  361.5  157.3   148.2  0.0   \n4  2017.0  1524.7  1748.3  936.3  34.716   44.69  316.6  177.2   126.5  0.0   \n\n   capx   sic      cusip      atng     totdr     capxr  rdr      prof  \\\n0  26.5  5080  000361105  0.187906  0.288247  0.013022  0.0  0.125799   \n1  46.3  5080  000361105  0.194719  0.101650  0.029041  0.0  0.052500   \n2  88.4  5080  000361105  0.217669  0.102697  0.053170  0.0  0.082341   \n3  33.6  5080  000361105  0.240343  0.104581  0.019009  0.0  0.083842   \n4  22.0  5080  000361105  0.207647  0.116220  0.012584  0.0  0.072356   \n\n       size         Q  \n0  7.618251  0.982636  \n1  7.374190  1.132868  \n2  7.416138  0.983851  \n3  7.477378  1.190233  \n4  7.466399  1.403462  ",
            "text/html": "<div>\n<style scoped>\n    .dataframe tbody tr th:only-of-type {\n        vertical-align: middle;\n    }\n\n    .dataframe tbody tr th {\n        vertical-align: top;\n    }\n\n    .dataframe thead th {\n        text-align: right;\n    }\n</style>\n<table border=\"1\" class=\"dataframe\">\n  <thead>\n    <tr style=\"text-align: right;\">\n      <th></th>\n      <th>year</th>\n      <th>at</th>\n      <th>sale</th>\n      <th>ceq</th>\n      <th>csho</th>\n      <th>prcc_f</th>\n      <th>ppent</th>\n      <th>dt</th>\n      <th>ebitda</th>\n      <th>xrd</th>\n      <th>capx</th>\n      <th>sic</th>\n      <th>cusip</th>\n      <th>atng</th>\n      <th>totdr</th>\n      <th>capxr</th>\n      <th>rdr</th>\n      <th>prof</th>\n      <th>size</th>\n      <th>Q</th>\n    </tr>\n  </thead>\n  <tbody>\n    <tr>\n      <th>0</th>\n      <td>2013.0</td>\n      <td>2199.5</td>\n      <td>2035.0</td>\n      <td>999.5</td>\n      <td>39.560</td>\n      <td>24.30</td>\n      <td>413.3</td>\n      <td>634.0</td>\n      <td>256.0</td>\n      <td>0.0</td>\n      <td>26.5</td>\n      <td>5080</td>\n      <td>000361105</td>\n      <td>0.187906</td>\n      <td>0.288247</td>\n      <td>0.013022</td>\n      <td>0.0</td>\n      <td>0.125799</td>\n      <td>7.618251</td>\n      <td>0.982636</td>\n    </tr>\n    <tr>\n      <th>1</th>\n      <td>2014.0</td>\n      <td>1515.0</td>\n      <td>1594.3</td>\n      <td>845.1</td>\n      <td>35.423</td>\n      <td>29.54</td>\n      <td>295.0</td>\n      <td>154.0</td>\n      <td>83.7</td>\n      <td>0.0</td>\n      <td>46.3</td>\n      <td>5080</td>\n      <td>000361105</td>\n      <td>0.194719</td>\n      <td>0.101650</td>\n      <td>0.029041</td>\n      <td>0.0</td>\n      <td>0.052500</td>\n      <td>7.374190</td>\n      <td>1.132868</td>\n    </tr>\n    <tr>\n      <th>2</th>\n      <td>2015.0</td>\n      <td>1442.1</td>\n      <td>1662.6</td>\n      <td>865.8</td>\n      <td>34.515</td>\n      <td>24.41</td>\n      <td>313.9</td>\n      <td>148.1</td>\n      <td>136.9</td>\n      <td>0.0</td>\n      <td>88.4</td>\n      <td>5080</td>\n      <td>000361105</td>\n      <td>0.217669</td>\n      <td>0.102697</td>\n      <td>0.053170</td>\n      <td>0.0</td>\n      <td>0.082341</td>\n      <td>7.416138</td>\n      <td>0.983851</td>\n    </tr>\n    <tr>\n      <th>3</th>\n      <td>2016.0</td>\n      <td>1504.1</td>\n      <td>1767.6</td>\n      <td>914.2</td>\n      <td>34.354</td>\n      <td>34.94</td>\n      <td>361.5</td>\n      <td>157.3</td>\n      <td>148.2</td>\n      <td>0.0</td>\n      <td>33.6</td>\n      <td>5080</td>\n      <td>000361105</td>\n      <td>0.240343</td>\n      <td>0.104581</td>\n      <td>0.019009</td>\n      <td>0.0</td>\n      <td>0.083842</td>\n      <td>7.477378</td>\n      <td>1.190233</td>\n    </tr>\n    <tr>\n      <th>4</th>\n      <td>2017.0</td>\n      <td>1524.7</td>\n      <td>1748.3</td>\n      <td>936.3</td>\n      <td>34.716</td>\n      <td>44.69</td>\n      <td>316.6</td>\n      <td>177.2</td>\n      <td>126.5</td>\n      <td>0.0</td>\n      <td>22.0</td>\n      <td>5080</td>\n      <td>000361105</td>\n      <td>0.207647</td>\n      <td>0.116220</td>\n      <td>0.012584</td>\n      <td>0.0</td>\n      <td>0.072356</td>\n      <td>7.466399</td>\n      <td>1.403462</td>\n    </tr>\n  </tbody>\n</table>\n</div>"
          },
          "metadata": {}
        }
      ],
      "id": "52b68cf3-652e-4dfe-8e29-5f82847770ea"
    },
    {
      "cell_type": "code",
      "source": "part2['year']=part2['year'].astype('int')",
      "metadata": {
        "trusted": true
      },
      "execution_count": 74,
      "outputs": [
        {
          "name": "stderr",
          "text": "<ipython-input-74-2c7a589f7c7a>:1: SettingWithCopyWarning: \nA value is trying to be set on a copy of a slice from a DataFrame.\nTry using .loc[row_indexer,col_indexer] = value instead\n\nSee the caveats in the documentation: https://pandas.pydata.org/pandas-docs/stable/user_guide/indexing.html#returning-a-view-versus-a-copy\n  part2['year']=part2['year'].astype('int')\n",
          "output_type": "stream"
        }
      ],
      "id": "2cd0297c-f3d9-4b45-a265-869f94c4e793"
    },
    {
      "cell_type": "code",
      "source": "rri=pd.read_csv('rri.csv',low_memory=False)",
      "metadata": {
        "trusted": true
      },
      "execution_count": 75,
      "outputs": [],
      "id": "948905b9-d1b9-4e54-bd48-afa04b9e847c"
    },
    {
      "cell_type": "code",
      "source": "res=pd.merge(part2,rri,on=['cusip','year'])",
      "metadata": {
        "trusted": true
      },
      "execution_count": 76,
      "outputs": [],
      "id": "bc6cd1a5-60e7-492a-b338-adca15d56ba8"
    },
    {
      "cell_type": "code",
      "source": "res.head()",
      "metadata": {
        "trusted": true
      },
      "execution_count": 77,
      "outputs": [
        {
          "execution_count": 77,
          "output_type": "execute_result",
          "data": {
            "text/plain": "   year      at    sale    ceq    csho  prcc_f  ppent     dt  ebitda  xrd  \\\n0  2013  2199.5  2035.0  999.5  39.560   24.30  413.3  634.0   256.0  0.0   \n1  2014  1515.0  1594.3  845.1  35.423   29.54  295.0  154.0    83.7  0.0   \n2  2015  1442.1  1662.6  865.8  34.515   24.41  313.9  148.1   136.9  0.0   \n3  2016  1504.1  1767.6  914.2  34.354   34.94  361.5  157.3   148.2  0.0   \n4  2017  1524.7  1748.3  936.3  34.716   44.69  316.6  177.2   126.5  0.0   \n\n   ...      atng     totdr     capxr  rdr      prof      size         Q  \\\n0  ...  0.187906  0.288247  0.013022  0.0  0.125799  7.618251  0.982636   \n1  ...  0.194719  0.101650  0.029041  0.0  0.052500  7.374190  1.132868   \n2  ...  0.217669  0.102697  0.053170  0.0  0.082341  7.416138  0.983851   \n3  ...  0.240343  0.104581  0.019009  0.0  0.083842  7.477378  1.190233   \n4  ...  0.207647  0.116220  0.012584  0.0  0.072356  7.466399  1.403462   \n\n       mnrri        date  lastrri  \n0   0.000000  2013-01-01        0  \n1   0.000000  2014-01-01        0  \n2  10.134247  2015-01-01        0  \n3   2.661202  2016-01-01        9  \n4   0.000000  2017-01-01        0  \n\n[5 rows x 23 columns]",
            "text/html": "<div>\n<style scoped>\n    .dataframe tbody tr th:only-of-type {\n        vertical-align: middle;\n    }\n\n    .dataframe tbody tr th {\n        vertical-align: top;\n    }\n\n    .dataframe thead th {\n        text-align: right;\n    }\n</style>\n<table border=\"1\" class=\"dataframe\">\n  <thead>\n    <tr style=\"text-align: right;\">\n      <th></th>\n      <th>year</th>\n      <th>at</th>\n      <th>sale</th>\n      <th>ceq</th>\n      <th>csho</th>\n      <th>prcc_f</th>\n      <th>ppent</th>\n      <th>dt</th>\n      <th>ebitda</th>\n      <th>xrd</th>\n      <th>...</th>\n      <th>atng</th>\n      <th>totdr</th>\n      <th>capxr</th>\n      <th>rdr</th>\n      <th>prof</th>\n      <th>size</th>\n      <th>Q</th>\n      <th>mnrri</th>\n      <th>date</th>\n      <th>lastrri</th>\n    </tr>\n  </thead>\n  <tbody>\n    <tr>\n      <th>0</th>\n      <td>2013</td>\n      <td>2199.5</td>\n      <td>2035.0</td>\n      <td>999.5</td>\n      <td>39.560</td>\n      <td>24.30</td>\n      <td>413.3</td>\n      <td>634.0</td>\n      <td>256.0</td>\n      <td>0.0</td>\n      <td>...</td>\n      <td>0.187906</td>\n      <td>0.288247</td>\n      <td>0.013022</td>\n      <td>0.0</td>\n      <td>0.125799</td>\n      <td>7.618251</td>\n      <td>0.982636</td>\n      <td>0.000000</td>\n      <td>2013-01-01</td>\n      <td>0</td>\n    </tr>\n    <tr>\n      <th>1</th>\n      <td>2014</td>\n      <td>1515.0</td>\n      <td>1594.3</td>\n      <td>845.1</td>\n      <td>35.423</td>\n      <td>29.54</td>\n      <td>295.0</td>\n      <td>154.0</td>\n      <td>83.7</td>\n      <td>0.0</td>\n      <td>...</td>\n      <td>0.194719</td>\n      <td>0.101650</td>\n      <td>0.029041</td>\n      <td>0.0</td>\n      <td>0.052500</td>\n      <td>7.374190</td>\n      <td>1.132868</td>\n      <td>0.000000</td>\n      <td>2014-01-01</td>\n      <td>0</td>\n    </tr>\n    <tr>\n      <th>2</th>\n      <td>2015</td>\n      <td>1442.1</td>\n      <td>1662.6</td>\n      <td>865.8</td>\n      <td>34.515</td>\n      <td>24.41</td>\n      <td>313.9</td>\n      <td>148.1</td>\n      <td>136.9</td>\n      <td>0.0</td>\n      <td>...</td>\n      <td>0.217669</td>\n      <td>0.102697</td>\n      <td>0.053170</td>\n      <td>0.0</td>\n      <td>0.082341</td>\n      <td>7.416138</td>\n      <td>0.983851</td>\n      <td>10.134247</td>\n      <td>2015-01-01</td>\n      <td>0</td>\n    </tr>\n    <tr>\n      <th>3</th>\n      <td>2016</td>\n      <td>1504.1</td>\n      <td>1767.6</td>\n      <td>914.2</td>\n      <td>34.354</td>\n      <td>34.94</td>\n      <td>361.5</td>\n      <td>157.3</td>\n      <td>148.2</td>\n      <td>0.0</td>\n      <td>...</td>\n      <td>0.240343</td>\n      <td>0.104581</td>\n      <td>0.019009</td>\n      <td>0.0</td>\n      <td>0.083842</td>\n      <td>7.477378</td>\n      <td>1.190233</td>\n      <td>2.661202</td>\n      <td>2016-01-01</td>\n      <td>9</td>\n    </tr>\n    <tr>\n      <th>4</th>\n      <td>2017</td>\n      <td>1524.7</td>\n      <td>1748.3</td>\n      <td>936.3</td>\n      <td>34.716</td>\n      <td>44.69</td>\n      <td>316.6</td>\n      <td>177.2</td>\n      <td>126.5</td>\n      <td>0.0</td>\n      <td>...</td>\n      <td>0.207647</td>\n      <td>0.116220</td>\n      <td>0.012584</td>\n      <td>0.0</td>\n      <td>0.072356</td>\n      <td>7.466399</td>\n      <td>1.403462</td>\n      <td>0.000000</td>\n      <td>2017-01-01</td>\n      <td>0</td>\n    </tr>\n  </tbody>\n</table>\n<p>5 rows × 23 columns</p>\n</div>"
          },
          "metadata": {}
        }
      ],
      "id": "1bc3609c-1681-4858-970a-bc866393eb41"
    },
    {
      "cell_type": "code",
      "source": "res.groupby(['cusip'])df['lagprice'] = df['price'].shift(1)",
      "metadata": {
        "trusted": true
      },
      "execution_count": 70,
      "outputs": [
        {
          "ename": "<class 'AttributeError'>",
          "evalue": "'DataFrameGroupBy' object has no attribute 'groupby'",
          "traceback": [
            "\u001b[0;31m---------------------------------------------------------------------------\u001b[0m",
            "\u001b[0;31mAttributeError\u001b[0m                            Traceback (most recent call last)",
            "Cell \u001b[0;32mIn[70], line 1\u001b[0m\n\u001b[0;32m----> 1\u001b[0m \u001b[43mres\u001b[49m\u001b[38;5;241;43m.\u001b[39;49m\u001b[43mgroupby\u001b[49m(by\u001b[38;5;241m=\u001b[39m[\u001b[38;5;124m'\u001b[39m\u001b[38;5;124mcusip\u001b[39m\u001b[38;5;124m'\u001b[39m])\n",
            "File \u001b[0;32m/lib/python3.11/site-packages/pandas/core/groupby/groupby.py:987\u001b[0m, in \u001b[0;36mGroupBy.__getattr__\u001b[0;34m(self, attr)\u001b[0m\n\u001b[1;32m    984\u001b[0m \u001b[38;5;28;01mif\u001b[39;00m attr \u001b[38;5;129;01min\u001b[39;00m \u001b[38;5;28mself\u001b[39m\u001b[38;5;241m.\u001b[39mobj:\n\u001b[1;32m    985\u001b[0m     \u001b[38;5;28;01mreturn\u001b[39;00m \u001b[38;5;28mself\u001b[39m[attr]\n\u001b[0;32m--> 987\u001b[0m \u001b[38;5;28;01mraise\u001b[39;00m \u001b[38;5;167;01mAttributeError\u001b[39;00m(\n\u001b[1;32m    988\u001b[0m     \u001b[38;5;124mf\u001b[39m\u001b[38;5;124m\"\u001b[39m\u001b[38;5;124m'\u001b[39m\u001b[38;5;132;01m{\u001b[39;00m\u001b[38;5;28mtype\u001b[39m(\u001b[38;5;28mself\u001b[39m)\u001b[38;5;241m.\u001b[39m\u001b[38;5;18m__name__\u001b[39m\u001b[38;5;132;01m}\u001b[39;00m\u001b[38;5;124m'\u001b[39m\u001b[38;5;124m object has no attribute \u001b[39m\u001b[38;5;124m'\u001b[39m\u001b[38;5;132;01m{\u001b[39;00mattr\u001b[38;5;132;01m}\u001b[39;00m\u001b[38;5;124m'\u001b[39m\u001b[38;5;124m\"\u001b[39m\n\u001b[1;32m    989\u001b[0m )\n",
            "\u001b[0;31mAttributeError\u001b[0m: 'DataFrameGroupBy' object has no attribute 'groupby'"
          ],
          "output_type": "error"
        }
      ],
      "id": "108004ec-07a6-4c0a-8a69-d327f6353857"
    },
    {
      "cell_type": "code",
      "source": "res = res.groupby(['cusip']).shift(1)",
      "metadata": {
        "trusted": true
      },
      "execution_count": 78,
      "outputs": [],
      "id": "cfc3c2ce-5084-45f0-9ac8-48aaaa627df4"
    },
    {
      "cell_type": "code",
      "source": "res",
      "metadata": {
        "trusted": true
      },
      "execution_count": 79,
      "outputs": [
        {
          "execution_count": 79,
          "output_type": "execute_result",
          "data": {
            "text/plain": "         year        at      sale       ceq     csho  prcc_f    ppent  \\\n0         NaN       NaN       NaN       NaN      NaN     NaN      NaN   \n1      2013.0  2199.500  2035.000   999.500   39.560   24.30  413.300   \n2      2014.0  1515.000  1594.300   845.100   35.423   29.54  295.000   \n3      2015.0  1442.100  1662.600   865.800   34.515   24.41  313.900   \n4      2016.0  1504.100  1767.600   914.200   34.354   34.94  361.500   \n...       ...       ...       ...       ...      ...     ...      ...   \n18526  2020.0    51.704    34.703    15.447   88.939    1.90   41.186   \n18527     NaN       NaN       NaN       NaN      NaN     NaN      NaN   \n18528  2018.0   764.288    96.666  -312.467   45.560     NaN   22.756   \n18529  2019.0  1012.720   264.748  -544.757   55.452     NaN  223.112   \n18530  2020.0  5921.739   592.049  4936.471  287.918  272.45  255.786   \n\n            dt   ebitda      xrd  ...      atng     totdr     capxr       rdr  \\\n0          NaN      NaN      NaN  ...       NaN       NaN       NaN       NaN   \n1      634.000  256.000    0.000  ...  0.187906  0.288247  0.013022  0.000000   \n2      154.000   83.700    0.000  ...  0.194719  0.101650  0.029041  0.000000   \n3      148.100  136.900    0.000  ...  0.217669  0.102697  0.053170  0.000000   \n4      157.300  148.200    0.000  ...  0.240343  0.104581  0.019009  0.000000   \n...        ...      ...      ...  ...       ...       ...       ...       ...   \n18526   28.368    6.109    0.000  ...  0.796573  0.548662  0.128317  0.000000   \n18527      NaN      NaN      NaN  ...       NaN       NaN       NaN       NaN   \n18528   16.660 -184.103   68.681  ...  0.029774  0.021798  0.041545  0.710498   \n18529  211.267 -354.566  105.160  ...  0.220310  0.208613  0.086301  0.397208   \n18530  204.537 -534.111  237.946  ...  0.043194  0.034540  0.068119  0.401903   \n\n           prof      size          Q      mnrri        date  lastrri  \n0           NaN       NaN        NaN        NaN         NaN      NaN  \n1      0.125799  7.618251   0.982636   0.000000  2013-01-01      0.0  \n2      0.052500  7.374190   1.132868   0.000000  2014-01-01      0.0  \n3      0.082341  7.416138   0.983851  10.134247  2015-01-01      0.0  \n4      0.083842  7.477378   1.190233   2.661202  2016-01-01      9.0  \n...         ...       ...        ...        ...         ...      ...  \n18526  0.176037  3.546826   3.969540  15.904372  2020-01-01     24.0  \n18527       NaN       NaN        NaN        NaN         NaN      NaN  \n18528 -1.904527  4.571262        NaN   0.000000  2018-01-01      0.0  \n18529 -1.339258  5.578778        NaN   0.000000  2019-01-01      0.0  \n18530 -0.902140  6.383589  13.413041   0.000000  2020-01-01      0.0  \n\n[18531 rows x 22 columns]",
            "text/html": "<div>\n<style scoped>\n    .dataframe tbody tr th:only-of-type {\n        vertical-align: middle;\n    }\n\n    .dataframe tbody tr th {\n        vertical-align: top;\n    }\n\n    .dataframe thead th {\n        text-align: right;\n    }\n</style>\n<table border=\"1\" class=\"dataframe\">\n  <thead>\n    <tr style=\"text-align: right;\">\n      <th></th>\n      <th>year</th>\n      <th>at</th>\n      <th>sale</th>\n      <th>ceq</th>\n      <th>csho</th>\n      <th>prcc_f</th>\n      <th>ppent</th>\n      <th>dt</th>\n      <th>ebitda</th>\n      <th>xrd</th>\n      <th>...</th>\n      <th>atng</th>\n      <th>totdr</th>\n      <th>capxr</th>\n      <th>rdr</th>\n      <th>prof</th>\n      <th>size</th>\n      <th>Q</th>\n      <th>mnrri</th>\n      <th>date</th>\n      <th>lastrri</th>\n    </tr>\n  </thead>\n  <tbody>\n    <tr>\n      <th>0</th>\n      <td>NaN</td>\n      <td>NaN</td>\n      <td>NaN</td>\n      <td>NaN</td>\n      <td>NaN</td>\n      <td>NaN</td>\n      <td>NaN</td>\n      <td>NaN</td>\n      <td>NaN</td>\n      <td>NaN</td>\n      <td>...</td>\n      <td>NaN</td>\n      <td>NaN</td>\n      <td>NaN</td>\n      <td>NaN</td>\n      <td>NaN</td>\n      <td>NaN</td>\n      <td>NaN</td>\n      <td>NaN</td>\n      <td>NaN</td>\n      <td>NaN</td>\n    </tr>\n    <tr>\n      <th>1</th>\n      <td>2013.0</td>\n      <td>2199.500</td>\n      <td>2035.000</td>\n      <td>999.500</td>\n      <td>39.560</td>\n      <td>24.30</td>\n      <td>413.300</td>\n      <td>634.000</td>\n      <td>256.000</td>\n      <td>0.000</td>\n      <td>...</td>\n      <td>0.187906</td>\n      <td>0.288247</td>\n      <td>0.013022</td>\n      <td>0.000000</td>\n      <td>0.125799</td>\n      <td>7.618251</td>\n      <td>0.982636</td>\n      <td>0.000000</td>\n      <td>2013-01-01</td>\n      <td>0.0</td>\n    </tr>\n    <tr>\n      <th>2</th>\n      <td>2014.0</td>\n      <td>1515.000</td>\n      <td>1594.300</td>\n      <td>845.100</td>\n      <td>35.423</td>\n      <td>29.54</td>\n      <td>295.000</td>\n      <td>154.000</td>\n      <td>83.700</td>\n      <td>0.000</td>\n      <td>...</td>\n      <td>0.194719</td>\n      <td>0.101650</td>\n      <td>0.029041</td>\n      <td>0.000000</td>\n      <td>0.052500</td>\n      <td>7.374190</td>\n      <td>1.132868</td>\n      <td>0.000000</td>\n      <td>2014-01-01</td>\n      <td>0.0</td>\n    </tr>\n    <tr>\n      <th>3</th>\n      <td>2015.0</td>\n      <td>1442.100</td>\n      <td>1662.600</td>\n      <td>865.800</td>\n      <td>34.515</td>\n      <td>24.41</td>\n      <td>313.900</td>\n      <td>148.100</td>\n      <td>136.900</td>\n      <td>0.000</td>\n      <td>...</td>\n      <td>0.217669</td>\n      <td>0.102697</td>\n      <td>0.053170</td>\n      <td>0.000000</td>\n      <td>0.082341</td>\n      <td>7.416138</td>\n      <td>0.983851</td>\n      <td>10.134247</td>\n      <td>2015-01-01</td>\n      <td>0.0</td>\n    </tr>\n    <tr>\n      <th>4</th>\n      <td>2016.0</td>\n      <td>1504.100</td>\n      <td>1767.600</td>\n      <td>914.200</td>\n      <td>34.354</td>\n      <td>34.94</td>\n      <td>361.500</td>\n      <td>157.300</td>\n      <td>148.200</td>\n      <td>0.000</td>\n      <td>...</td>\n      <td>0.240343</td>\n      <td>0.104581</td>\n      <td>0.019009</td>\n      <td>0.000000</td>\n      <td>0.083842</td>\n      <td>7.477378</td>\n      <td>1.190233</td>\n      <td>2.661202</td>\n      <td>2016-01-01</td>\n      <td>9.0</td>\n    </tr>\n    <tr>\n      <th>...</th>\n      <td>...</td>\n      <td>...</td>\n      <td>...</td>\n      <td>...</td>\n      <td>...</td>\n      <td>...</td>\n      <td>...</td>\n      <td>...</td>\n      <td>...</td>\n      <td>...</td>\n      <td>...</td>\n      <td>...</td>\n      <td>...</td>\n      <td>...</td>\n      <td>...</td>\n      <td>...</td>\n      <td>...</td>\n      <td>...</td>\n      <td>...</td>\n      <td>...</td>\n      <td>...</td>\n    </tr>\n    <tr>\n      <th>18526</th>\n      <td>2020.0</td>\n      <td>51.704</td>\n      <td>34.703</td>\n      <td>15.447</td>\n      <td>88.939</td>\n      <td>1.90</td>\n      <td>41.186</td>\n      <td>28.368</td>\n      <td>6.109</td>\n      <td>0.000</td>\n      <td>...</td>\n      <td>0.796573</td>\n      <td>0.548662</td>\n      <td>0.128317</td>\n      <td>0.000000</td>\n      <td>0.176037</td>\n      <td>3.546826</td>\n      <td>3.969540</td>\n      <td>15.904372</td>\n      <td>2020-01-01</td>\n      <td>24.0</td>\n    </tr>\n    <tr>\n      <th>18527</th>\n      <td>NaN</td>\n      <td>NaN</td>\n      <td>NaN</td>\n      <td>NaN</td>\n      <td>NaN</td>\n      <td>NaN</td>\n      <td>NaN</td>\n      <td>NaN</td>\n      <td>NaN</td>\n      <td>NaN</td>\n      <td>...</td>\n      <td>NaN</td>\n      <td>NaN</td>\n      <td>NaN</td>\n      <td>NaN</td>\n      <td>NaN</td>\n      <td>NaN</td>\n      <td>NaN</td>\n      <td>NaN</td>\n      <td>NaN</td>\n      <td>NaN</td>\n    </tr>\n    <tr>\n      <th>18528</th>\n      <td>2018.0</td>\n      <td>764.288</td>\n      <td>96.666</td>\n      <td>-312.467</td>\n      <td>45.560</td>\n      <td>NaN</td>\n      <td>22.756</td>\n      <td>16.660</td>\n      <td>-184.103</td>\n      <td>68.681</td>\n      <td>...</td>\n      <td>0.029774</td>\n      <td>0.021798</td>\n      <td>0.041545</td>\n      <td>0.710498</td>\n      <td>-1.904527</td>\n      <td>4.571262</td>\n      <td>NaN</td>\n      <td>0.000000</td>\n      <td>2018-01-01</td>\n      <td>0.0</td>\n    </tr>\n    <tr>\n      <th>18529</th>\n      <td>2019.0</td>\n      <td>1012.720</td>\n      <td>264.748</td>\n      <td>-544.757</td>\n      <td>55.452</td>\n      <td>NaN</td>\n      <td>223.112</td>\n      <td>211.267</td>\n      <td>-354.566</td>\n      <td>105.160</td>\n      <td>...</td>\n      <td>0.220310</td>\n      <td>0.208613</td>\n      <td>0.086301</td>\n      <td>0.397208</td>\n      <td>-1.339258</td>\n      <td>5.578778</td>\n      <td>NaN</td>\n      <td>0.000000</td>\n      <td>2019-01-01</td>\n      <td>0.0</td>\n    </tr>\n    <tr>\n      <th>18530</th>\n      <td>2020.0</td>\n      <td>5921.739</td>\n      <td>592.049</td>\n      <td>4936.471</td>\n      <td>287.918</td>\n      <td>272.45</td>\n      <td>255.786</td>\n      <td>204.537</td>\n      <td>-534.111</td>\n      <td>237.946</td>\n      <td>...</td>\n      <td>0.043194</td>\n      <td>0.034540</td>\n      <td>0.068119</td>\n      <td>0.401903</td>\n      <td>-0.902140</td>\n      <td>6.383589</td>\n      <td>13.413041</td>\n      <td>0.000000</td>\n      <td>2020-01-01</td>\n      <td>0.0</td>\n    </tr>\n  </tbody>\n</table>\n<p>18531 rows × 22 columns</p>\n</div>"
          },
          "metadata": {}
        }
      ],
      "id": "4e24fe92-de5d-4783-922a-bd4582c78d37"
    },
    {
      "cell_type": "code",
      "source": "res = res.dropna()\nres",
      "metadata": {
        "trusted": true
      },
      "execution_count": 82,
      "outputs": [
        {
          "execution_count": 82,
          "output_type": "execute_result",
          "data": {
            "text/plain": "         year        at      sale       ceq     csho  prcc_f    ppent  \\\n1      2013.0  2199.500  2035.000   999.500   39.560   24.30  413.300   \n2      2014.0  1515.000  1594.300   845.100   35.423   29.54  295.000   \n3      2015.0  1442.100  1662.600   865.800   34.515   24.41  313.900   \n4      2016.0  1504.100  1767.600   914.200   34.354   34.94  361.500   \n5      2017.0  1524.700  1748.300   936.300   34.716   44.69  316.600   \n...       ...       ...       ...       ...      ...     ...      ...   \n18522  2018.0  6114.669  2487.633  2358.375  175.729   16.72  399.340   \n18523  2019.0  6625.928  2608.289  2870.431  196.043   22.37  474.010   \n18524  2020.0  6718.098  3032.631  2562.771  173.681   25.42  508.914   \n18526  2020.0    51.704    34.703    15.447   88.939    1.90   41.186   \n18530  2020.0  5921.739   592.049  4936.471  287.918  272.45  255.786   \n\n             dt   ebitda      xrd  ...      atng     totdr     capxr  \\\n1       634.000  256.000    0.000  ...  0.187906  0.288247  0.013022   \n2       154.000   83.700    0.000  ...  0.194719  0.101650  0.029041   \n3       148.100  136.900    0.000  ...  0.217669  0.102697  0.053170   \n4       157.300  148.200    0.000  ...  0.240343  0.104581  0.019009   \n5       177.200  126.500    0.000  ...  0.207647  0.116220  0.012584   \n...         ...      ...      ...  ...       ...       ...       ...   \n18522  2019.943  414.110   17.746  ...  0.065309  0.330344  0.016108   \n18523  2104.429  459.646   21.209  ...  0.071539  0.317605  0.020350   \n18524  2120.033  548.089   21.215  ...  0.075753  0.315570  0.023332   \n18526    28.368    6.109    0.000  ...  0.796573  0.548662  0.128317   \n18530   204.537 -534.111  237.946  ...  0.043194  0.034540  0.068119   \n\n            rdr      prof      size          Q      mnrri        date  lastrri  \n1      0.000000  0.125799  7.618251   0.982636   0.000000  2013-01-01      0.0  \n2      0.000000  0.052500  7.374190   1.132868   0.000000  2014-01-01      0.0  \n3      0.000000  0.082341  7.416138   0.983851  10.134247  2015-01-01      0.0  \n4      0.000000  0.083842  7.477378   1.190233   2.661202  2016-01-01      9.0  \n5      0.000000  0.072356  7.466399   1.403462   0.000000  2017-01-01      0.0  \n...         ...       ...       ...        ...        ...         ...      ...  \n18522  0.007134  0.166467  7.819087   1.094823  11.271233  2018-01-01     19.0  \n18523  0.008131  0.176225  7.866450   1.228655   0.263014  2019-01-01      3.0  \n18524  0.006996  0.180731  8.017186   1.275703  17.322404  2020-01-01     25.0  \n18526  0.000000  0.176037  3.546826   3.969540  15.904372  2020-01-01     24.0  \n18530  0.401903 -0.902140  6.383589  13.413041   0.000000  2020-01-01      0.0  \n\n[14317 rows x 22 columns]",
            "text/html": "<div>\n<style scoped>\n    .dataframe tbody tr th:only-of-type {\n        vertical-align: middle;\n    }\n\n    .dataframe tbody tr th {\n        vertical-align: top;\n    }\n\n    .dataframe thead th {\n        text-align: right;\n    }\n</style>\n<table border=\"1\" class=\"dataframe\">\n  <thead>\n    <tr style=\"text-align: right;\">\n      <th></th>\n      <th>year</th>\n      <th>at</th>\n      <th>sale</th>\n      <th>ceq</th>\n      <th>csho</th>\n      <th>prcc_f</th>\n      <th>ppent</th>\n      <th>dt</th>\n      <th>ebitda</th>\n      <th>xrd</th>\n      <th>...</th>\n      <th>atng</th>\n      <th>totdr</th>\n      <th>capxr</th>\n      <th>rdr</th>\n      <th>prof</th>\n      <th>size</th>\n      <th>Q</th>\n      <th>mnrri</th>\n      <th>date</th>\n      <th>lastrri</th>\n    </tr>\n  </thead>\n  <tbody>\n    <tr>\n      <th>1</th>\n      <td>2013.0</td>\n      <td>2199.500</td>\n      <td>2035.000</td>\n      <td>999.500</td>\n      <td>39.560</td>\n      <td>24.30</td>\n      <td>413.300</td>\n      <td>634.000</td>\n      <td>256.000</td>\n      <td>0.000</td>\n      <td>...</td>\n      <td>0.187906</td>\n      <td>0.288247</td>\n      <td>0.013022</td>\n      <td>0.000000</td>\n      <td>0.125799</td>\n      <td>7.618251</td>\n      <td>0.982636</td>\n      <td>0.000000</td>\n      <td>2013-01-01</td>\n      <td>0.0</td>\n    </tr>\n    <tr>\n      <th>2</th>\n      <td>2014.0</td>\n      <td>1515.000</td>\n      <td>1594.300</td>\n      <td>845.100</td>\n      <td>35.423</td>\n      <td>29.54</td>\n      <td>295.000</td>\n      <td>154.000</td>\n      <td>83.700</td>\n      <td>0.000</td>\n      <td>...</td>\n      <td>0.194719</td>\n      <td>0.101650</td>\n      <td>0.029041</td>\n      <td>0.000000</td>\n      <td>0.052500</td>\n      <td>7.374190</td>\n      <td>1.132868</td>\n      <td>0.000000</td>\n      <td>2014-01-01</td>\n      <td>0.0</td>\n    </tr>\n    <tr>\n      <th>3</th>\n      <td>2015.0</td>\n      <td>1442.100</td>\n      <td>1662.600</td>\n      <td>865.800</td>\n      <td>34.515</td>\n      <td>24.41</td>\n      <td>313.900</td>\n      <td>148.100</td>\n      <td>136.900</td>\n      <td>0.000</td>\n      <td>...</td>\n      <td>0.217669</td>\n      <td>0.102697</td>\n      <td>0.053170</td>\n      <td>0.000000</td>\n      <td>0.082341</td>\n      <td>7.416138</td>\n      <td>0.983851</td>\n      <td>10.134247</td>\n      <td>2015-01-01</td>\n      <td>0.0</td>\n    </tr>\n    <tr>\n      <th>4</th>\n      <td>2016.0</td>\n      <td>1504.100</td>\n      <td>1767.600</td>\n      <td>914.200</td>\n      <td>34.354</td>\n      <td>34.94</td>\n      <td>361.500</td>\n      <td>157.300</td>\n      <td>148.200</td>\n      <td>0.000</td>\n      <td>...</td>\n      <td>0.240343</td>\n      <td>0.104581</td>\n      <td>0.019009</td>\n      <td>0.000000</td>\n      <td>0.083842</td>\n      <td>7.477378</td>\n      <td>1.190233</td>\n      <td>2.661202</td>\n      <td>2016-01-01</td>\n      <td>9.0</td>\n    </tr>\n    <tr>\n      <th>5</th>\n      <td>2017.0</td>\n      <td>1524.700</td>\n      <td>1748.300</td>\n      <td>936.300</td>\n      <td>34.716</td>\n      <td>44.69</td>\n      <td>316.600</td>\n      <td>177.200</td>\n      <td>126.500</td>\n      <td>0.000</td>\n      <td>...</td>\n      <td>0.207647</td>\n      <td>0.116220</td>\n      <td>0.012584</td>\n      <td>0.000000</td>\n      <td>0.072356</td>\n      <td>7.466399</td>\n      <td>1.403462</td>\n      <td>0.000000</td>\n      <td>2017-01-01</td>\n      <td>0.0</td>\n    </tr>\n    <tr>\n      <th>...</th>\n      <td>...</td>\n      <td>...</td>\n      <td>...</td>\n      <td>...</td>\n      <td>...</td>\n      <td>...</td>\n      <td>...</td>\n      <td>...</td>\n      <td>...</td>\n      <td>...</td>\n      <td>...</td>\n      <td>...</td>\n      <td>...</td>\n      <td>...</td>\n      <td>...</td>\n      <td>...</td>\n      <td>...</td>\n      <td>...</td>\n      <td>...</td>\n      <td>...</td>\n      <td>...</td>\n    </tr>\n    <tr>\n      <th>18522</th>\n      <td>2018.0</td>\n      <td>6114.669</td>\n      <td>2487.633</td>\n      <td>2358.375</td>\n      <td>175.729</td>\n      <td>16.72</td>\n      <td>399.340</td>\n      <td>2019.943</td>\n      <td>414.110</td>\n      <td>17.746</td>\n      <td>...</td>\n      <td>0.065309</td>\n      <td>0.330344</td>\n      <td>0.016108</td>\n      <td>0.007134</td>\n      <td>0.166467</td>\n      <td>7.819087</td>\n      <td>1.094823</td>\n      <td>11.271233</td>\n      <td>2018-01-01</td>\n      <td>19.0</td>\n    </tr>\n    <tr>\n      <th>18523</th>\n      <td>2019.0</td>\n      <td>6625.928</td>\n      <td>2608.289</td>\n      <td>2870.431</td>\n      <td>196.043</td>\n      <td>22.37</td>\n      <td>474.010</td>\n      <td>2104.429</td>\n      <td>459.646</td>\n      <td>21.209</td>\n      <td>...</td>\n      <td>0.071539</td>\n      <td>0.317605</td>\n      <td>0.020350</td>\n      <td>0.008131</td>\n      <td>0.176225</td>\n      <td>7.866450</td>\n      <td>1.228655</td>\n      <td>0.263014</td>\n      <td>2019-01-01</td>\n      <td>3.0</td>\n    </tr>\n    <tr>\n      <th>18524</th>\n      <td>2020.0</td>\n      <td>6718.098</td>\n      <td>3032.631</td>\n      <td>2562.771</td>\n      <td>173.681</td>\n      <td>25.42</td>\n      <td>508.914</td>\n      <td>2120.033</td>\n      <td>548.089</td>\n      <td>21.215</td>\n      <td>...</td>\n      <td>0.075753</td>\n      <td>0.315570</td>\n      <td>0.023332</td>\n      <td>0.006996</td>\n      <td>0.180731</td>\n      <td>8.017186</td>\n      <td>1.275703</td>\n      <td>17.322404</td>\n      <td>2020-01-01</td>\n      <td>25.0</td>\n    </tr>\n    <tr>\n      <th>18526</th>\n      <td>2020.0</td>\n      <td>51.704</td>\n      <td>34.703</td>\n      <td>15.447</td>\n      <td>88.939</td>\n      <td>1.90</td>\n      <td>41.186</td>\n      <td>28.368</td>\n      <td>6.109</td>\n      <td>0.000</td>\n      <td>...</td>\n      <td>0.796573</td>\n      <td>0.548662</td>\n      <td>0.128317</td>\n      <td>0.000000</td>\n      <td>0.176037</td>\n      <td>3.546826</td>\n      <td>3.969540</td>\n      <td>15.904372</td>\n      <td>2020-01-01</td>\n      <td>24.0</td>\n    </tr>\n    <tr>\n      <th>18530</th>\n      <td>2020.0</td>\n      <td>5921.739</td>\n      <td>592.049</td>\n      <td>4936.471</td>\n      <td>287.918</td>\n      <td>272.45</td>\n      <td>255.786</td>\n      <td>204.537</td>\n      <td>-534.111</td>\n      <td>237.946</td>\n      <td>...</td>\n      <td>0.043194</td>\n      <td>0.034540</td>\n      <td>0.068119</td>\n      <td>0.401903</td>\n      <td>-0.902140</td>\n      <td>6.383589</td>\n      <td>13.413041</td>\n      <td>0.000000</td>\n      <td>2020-01-01</td>\n      <td>0.0</td>\n    </tr>\n  </tbody>\n</table>\n<p>14317 rows × 22 columns</p>\n</div>"
          },
          "metadata": {}
        }
      ],
      "id": "9f3f130a-d766-424d-8919-3a7ec3ff4701"
    },
    {
      "cell_type": "code",
      "source": "from sklearn.linear_model import LinearRegression",
      "metadata": {
        "trusted": true
      },
      "execution_count": 83,
      "outputs": [],
      "id": "e334efa5-3b7a-4f7a-8908-0a869e9beca3"
    },
    {
      "cell_type": "code",
      "source": "y = res[\"mnrri\"]\nx = res[[\"sale\",\"ebitda\",\"size\",\"capxr\"]]",
      "metadata": {
        "trusted": true
      },
      "execution_count": 92,
      "outputs": [],
      "id": "f8d47f9a-9335-4006-8eb7-2f081292d8ad"
    },
    {
      "cell_type": "code",
      "source": "reg = LinearRegression().fit(x, y)",
      "metadata": {
        "trusted": true
      },
      "execution_count": 94,
      "outputs": [],
      "id": "8ec1f437-4e03-4b61-9e6e-417d896c48e8"
    },
    {
      "cell_type": "code",
      "source": "reg.score(x, y)",
      "metadata": {
        "trusted": true
      },
      "execution_count": 96,
      "outputs": [
        {
          "execution_count": 96,
          "output_type": "execute_result",
          "data": {
            "text/plain": "0.3895534909945303"
          },
          "metadata": {}
        }
      ],
      "id": "cc9d6dd7-5fe4-4ce6-805e-6e3be3f24f09"
    },
    {
      "cell_type": "code",
      "source": "import statsmodels.api as sm",
      "metadata": {
        "trusted": true
      },
      "execution_count": 97,
      "outputs": [],
      "id": "263124d9-8a1e-4c62-b69a-a7152fb4da6e"
    },
    {
      "cell_type": "code",
      "source": "model = sm.OLS(y,x)\nresults = model.fit()\nresults.params",
      "metadata": {
        "trusted": true
      },
      "execution_count": 104,
      "outputs": [
        {
          "execution_count": 104,
          "output_type": "execute_result",
          "data": {
            "text/plain": "sale      0.000102\nebitda    0.000639\nsize      1.131811\ncapxr     0.252707\ndtype: float64"
          },
          "metadata": {}
        }
      ],
      "id": "5889bc9b-dd88-4254-b273-8c4d007fabb0"
    },
    {
      "cell_type": "code",
      "source": "results.tvalues",
      "metadata": {
        "trusted": true
      },
      "execution_count": 105,
      "outputs": [
        {
          "execution_count": 105,
          "output_type": "execute_result",
          "data": {
            "text/plain": "sale       20.852003\nebitda     22.747149\nsize      104.500189\ncapxr       2.532645\ndtype: float64"
          },
          "metadata": {}
        }
      ],
      "id": "9c7fded0-5b79-424a-8ba9-588f586e9f77"
    },
    {
      "cell_type": "code",
      "source": "results.pvalues",
      "metadata": {
        "trusted": true
      },
      "execution_count": 106,
      "outputs": [
        {
          "execution_count": 106,
          "output_type": "execute_result",
          "data": {
            "text/plain": "sale       3.776413e-95\nebitda    1.499977e-112\nsize       0.000000e+00\ncapxr      1.133114e-02\ndtype: float64"
          },
          "metadata": {}
        }
      ],
      "id": "c67304c2-b891-4d0f-9da3-47ab8638d1dc"
    },
    {
      "cell_type": "code",
      "source": "results.summary()\n",
      "metadata": {
        "trusted": true
      },
      "execution_count": 108,
      "outputs": [
        {
          "execution_count": 108,
          "output_type": "execute_result",
          "data": {
            "text/plain": "<class 'statsmodels.iolib.summary.Summary'>\n\"\"\"\n                                 OLS Regression Results                                \n=======================================================================================\nDep. Variable:                  mnrri   R-squared (uncentered):                   0.626\nModel:                            OLS   Adj. R-squared (uncentered):              0.626\nMethod:                 Least Squares   F-statistic:                              5982.\nDate:                Tue, 07 Nov 2023   Prob (F-statistic):                        0.00\nTime:                        20:05:20   Log-Likelihood:                         -51265.\nNo. Observations:               14317   AIC:                                  1.025e+05\nDf Residuals:                   14313   BIC:                                  1.026e+05\nDf Model:                           4                                                  \nCovariance Type:            nonrobust                                                  \n==============================================================================\n                 coef    std err          t      P>|t|      [0.025      0.975]\n------------------------------------------------------------------------------\nsale           0.0001    4.9e-06     20.852      0.000    9.25e-05       0.000\nebitda         0.0006   2.81e-05     22.747      0.000       0.001       0.001\nsize           1.1318      0.011    104.500      0.000       1.111       1.153\ncapxr          0.2527      0.100      2.533      0.011       0.057       0.448\n==============================================================================\nOmnibus:                     1120.283   Durbin-Watson:                   0.919\nProb(Omnibus):                  0.000   Jarque-Bera (JB):             1405.691\nSkew:                           0.730   Prob(JB):                    5.73e-306\nKurtosis:                       3.475   Cond. No.                     3.24e+04\n==============================================================================\n\nNotes:\n[1] R² is computed without centering (uncentered) since the model does not contain a constant.\n[2] Standard Errors assume that the covariance matrix of the errors is correctly specified.\n[3] The condition number is large, 3.24e+04. This might indicate that there are\nstrong multicollinearity or other numerical problems.\n\"\"\"",
            "text/html": "<table class=\"simpletable\">\n<caption>OLS Regression Results</caption>\n<tr>\n  <th>Dep. Variable:</th>          <td>mnrri</td>      <th>  R-squared (uncentered):</th>      <td>   0.626</td> \n</tr>\n<tr>\n  <th>Model:</th>                   <td>OLS</td>       <th>  Adj. R-squared (uncentered):</th> <td>   0.626</td> \n</tr>\n<tr>\n  <th>Method:</th>             <td>Least Squares</td>  <th>  F-statistic:       </th>          <td>   5982.</td> \n</tr>\n<tr>\n  <th>Date:</th>             <td>Tue, 07 Nov 2023</td> <th>  Prob (F-statistic):</th>           <td>  0.00</td>  \n</tr>\n<tr>\n  <th>Time:</th>                 <td>20:05:20</td>     <th>  Log-Likelihood:    </th>          <td> -51265.</td> \n</tr>\n<tr>\n  <th>No. Observations:</th>      <td> 14317</td>      <th>  AIC:               </th>          <td>1.025e+05</td>\n</tr>\n<tr>\n  <th>Df Residuals:</th>          <td> 14313</td>      <th>  BIC:               </th>          <td>1.026e+05</td>\n</tr>\n<tr>\n  <th>Df Model:</th>              <td>     4</td>      <th>                     </th>              <td> </td>    \n</tr>\n<tr>\n  <th>Covariance Type:</th>      <td>nonrobust</td>    <th>                     </th>              <td> </td>    \n</tr>\n</table>\n<table class=\"simpletable\">\n<tr>\n     <td></td>       <th>coef</th>     <th>std err</th>      <th>t</th>      <th>P>|t|</th>  <th>[0.025</th>    <th>0.975]</th>  \n</tr>\n<tr>\n  <th>sale</th>   <td>    0.0001</td> <td>  4.9e-06</td> <td>   20.852</td> <td> 0.000</td> <td> 9.25e-05</td> <td>    0.000</td>\n</tr>\n<tr>\n  <th>ebitda</th> <td>    0.0006</td> <td> 2.81e-05</td> <td>   22.747</td> <td> 0.000</td> <td>    0.001</td> <td>    0.001</td>\n</tr>\n<tr>\n  <th>size</th>   <td>    1.1318</td> <td>    0.011</td> <td>  104.500</td> <td> 0.000</td> <td>    1.111</td> <td>    1.153</td>\n</tr>\n<tr>\n  <th>capxr</th>  <td>    0.2527</td> <td>    0.100</td> <td>    2.533</td> <td> 0.011</td> <td>    0.057</td> <td>    0.448</td>\n</tr>\n</table>\n<table class=\"simpletable\">\n<tr>\n  <th>Omnibus:</th>       <td>1120.283</td> <th>  Durbin-Watson:     </th> <td>   0.919</td> \n</tr>\n<tr>\n  <th>Prob(Omnibus):</th>  <td> 0.000</td>  <th>  Jarque-Bera (JB):  </th> <td>1405.691</td> \n</tr>\n<tr>\n  <th>Skew:</th>           <td> 0.730</td>  <th>  Prob(JB):          </th> <td>5.73e-306</td>\n</tr>\n<tr>\n  <th>Kurtosis:</th>       <td> 3.475</td>  <th>  Cond. No.          </th> <td>3.24e+04</td> \n</tr>\n</table><br/><br/>Notes:<br/>[1] R² is computed without centering (uncentered) since the model does not contain a constant.<br/>[2] Standard Errors assume that the covariance matrix of the errors is correctly specified.<br/>[3] The condition number is large, 3.24e+04. This might indicate that there are<br/>strong multicollinearity or other numerical problems.",
            "text/latex": "\\begin{center}\n\\begin{tabular}{lclc}\n\\toprule\n\\textbf{Dep. Variable:}    &      mnrri       & \\textbf{  R-squared (uncentered):}      &     0.626   \\\\\n\\textbf{Model:}            &       OLS        & \\textbf{  Adj. R-squared (uncentered):} &     0.626   \\\\\n\\textbf{Method:}           &  Least Squares   & \\textbf{  F-statistic:       }          &     5982.   \\\\\n\\textbf{Date:}             & Tue, 07 Nov 2023 & \\textbf{  Prob (F-statistic):}          &     0.00    \\\\\n\\textbf{Time:}             &     20:05:20     & \\textbf{  Log-Likelihood:    }          &   -51265.   \\\\\n\\textbf{No. Observations:} &       14317      & \\textbf{  AIC:               }          & 1.025e+05   \\\\\n\\textbf{Df Residuals:}     &       14313      & \\textbf{  BIC:               }          & 1.026e+05   \\\\\n\\textbf{Df Model:}         &           4      & \\textbf{                     }          &             \\\\\n\\textbf{Covariance Type:}  &    nonrobust     & \\textbf{                     }          &             \\\\\n\\bottomrule\n\\end{tabular}\n\\begin{tabular}{lcccccc}\n                & \\textbf{coef} & \\textbf{std err} & \\textbf{t} & \\textbf{P$> |$t$|$} & \\textbf{[0.025} & \\textbf{0.975]}  \\\\\n\\midrule\n\\textbf{sale}   &       0.0001  &      4.9e-06     &    20.852  &         0.000        &     9.25e-05    &        0.000     \\\\\n\\textbf{ebitda} &       0.0006  &     2.81e-05     &    22.747  &         0.000        &        0.001    &        0.001     \\\\\n\\textbf{size}   &       1.1318  &        0.011     &   104.500  &         0.000        &        1.111    &        1.153     \\\\\n\\textbf{capxr}  &       0.2527  &        0.100     &     2.533  &         0.011        &        0.057    &        0.448     \\\\\n\\bottomrule\n\\end{tabular}\n\\begin{tabular}{lclc}\n\\textbf{Omnibus:}       & 1120.283 & \\textbf{  Durbin-Watson:     } &     0.919  \\\\\n\\textbf{Prob(Omnibus):} &   0.000  & \\textbf{  Jarque-Bera (JB):  } &  1405.691  \\\\\n\\textbf{Skew:}          &   0.730  & \\textbf{  Prob(JB):          } & 5.73e-306  \\\\\n\\textbf{Kurtosis:}      &   3.475  & \\textbf{  Cond. No.          } &  3.24e+04  \\\\\n\\bottomrule\n\\end{tabular}\n%\\caption{OLS Regression Results}\n\\end{center}\n\nNotes: \\newline\n [1] R² is computed without centering (uncentered) since the model does not contain a constant. \\newline\n [2] Standard Errors assume that the covariance matrix of the errors is correctly specified. \\newline\n [3] The condition number is large, 3.24e+04. This might indicate that there are \\newline\n strong multicollinearity or other numerical problems."
          },
          "metadata": {}
        }
      ],
      "id": "73d1c826-6a4f-49e5-9184-bdb1224d7a53"
    },
    {
      "cell_type": "code",
      "source": "y = res[\"Q\"]\nx = res[[\"sale\",\"ebitda\",\"size\",\"totdr\",'xrd']]\nmodel = sm.OLS(y,x)\nresults = model.fit()\nresults.params",
      "metadata": {
        "trusted": true
      },
      "execution_count": 114,
      "outputs": [
        {
          "execution_count": 114,
          "output_type": "execute_result",
          "data": {
            "text/plain": "sale     -0.000011\nebitda   -0.000027\nsize      0.271468\ntotdr     0.398667\nxrd       0.000185\ndtype: float64"
          },
          "metadata": {}
        }
      ],
      "id": "f268e8fa-2def-4db9-a5f1-8258d1177ece"
    },
    {
      "cell_type": "code",
      "source": "results.pvalues",
      "metadata": {
        "trusted": true
      },
      "execution_count": 116,
      "outputs": [
        {
          "execution_count": 116,
          "output_type": "execute_result",
          "data": {
            "text/plain": "sale      1.221236e-24\nebitda    1.279147e-04\nsize      0.000000e+00\ntotdr     4.430161e-10\nxrd       1.543384e-26\ndtype: float64"
          },
          "metadata": {}
        }
      ],
      "id": "1b867e10-de6f-4ebc-a546-a5485e4008a8"
    },
    {
      "cell_type": "code",
      "source": "results.summary()",
      "metadata": {
        "trusted": true
      },
      "execution_count": 118,
      "outputs": [
        {
          "execution_count": 118,
          "output_type": "execute_result",
          "data": {
            "text/plain": "<class 'statsmodels.iolib.summary.Summary'>\n\"\"\"\n                                 OLS Regression Results                                \n=======================================================================================\nDep. Variable:                      Q   R-squared (uncentered):                   0.539\nModel:                            OLS   Adj. R-squared (uncentered):              0.538\nMethod:                 Least Squares   F-statistic:                              3342.\nDate:                Tue, 07 Nov 2023   Prob (F-statistic):                        0.00\nTime:                        20:11:33   Log-Likelihood:                         -29626.\nNo. Observations:               14317   AIC:                                  5.926e+04\nDf Residuals:                   14312   BIC:                                  5.930e+04\nDf Model:                           5                                                  \nCovariance Type:            nonrobust                                                  \n==============================================================================\n                 coef    std err          t      P>|t|      [0.025      0.975]\n------------------------------------------------------------------------------\nsale       -1.114e-05   1.09e-06    -10.266      0.000   -1.33e-05   -9.02e-06\nebitda     -2.714e-05   7.08e-06     -3.831      0.000    -4.1e-05   -1.33e-05\nsize           0.2715      0.004     76.758      0.000       0.265       0.278\ntotdr          0.3987      0.064      6.242      0.000       0.273       0.524\nxrd            0.0002   1.74e-05     10.683      0.000       0.000       0.000\n==============================================================================\nOmnibus:                    13773.112   Durbin-Watson:                   0.706\nProb(Omnibus):                  0.000   Jarque-Bera (JB):          1157604.670\nSkew:                           4.482   Prob(JB):                         0.00\nKurtosis:                      46.130   Cond. No.                     9.41e+04\n==============================================================================\n\nNotes:\n[1] R² is computed without centering (uncentered) since the model does not contain a constant.\n[2] Standard Errors assume that the covariance matrix of the errors is correctly specified.\n[3] The condition number is large, 9.41e+04. This might indicate that there are\nstrong multicollinearity or other numerical problems.\n\"\"\"",
            "text/html": "<table class=\"simpletable\">\n<caption>OLS Regression Results</caption>\n<tr>\n  <th>Dep. Variable:</th>            <td>Q</td>        <th>  R-squared (uncentered):</th>      <td>   0.539</td> \n</tr>\n<tr>\n  <th>Model:</th>                   <td>OLS</td>       <th>  Adj. R-squared (uncentered):</th> <td>   0.538</td> \n</tr>\n<tr>\n  <th>Method:</th>             <td>Least Squares</td>  <th>  F-statistic:       </th>          <td>   3342.</td> \n</tr>\n<tr>\n  <th>Date:</th>             <td>Tue, 07 Nov 2023</td> <th>  Prob (F-statistic):</th>           <td>  0.00</td>  \n</tr>\n<tr>\n  <th>Time:</th>                 <td>20:11:33</td>     <th>  Log-Likelihood:    </th>          <td> -29626.</td> \n</tr>\n<tr>\n  <th>No. Observations:</th>      <td> 14317</td>      <th>  AIC:               </th>          <td>5.926e+04</td>\n</tr>\n<tr>\n  <th>Df Residuals:</th>          <td> 14312</td>      <th>  BIC:               </th>          <td>5.930e+04</td>\n</tr>\n<tr>\n  <th>Df Model:</th>              <td>     5</td>      <th>                     </th>              <td> </td>    \n</tr>\n<tr>\n  <th>Covariance Type:</th>      <td>nonrobust</td>    <th>                     </th>              <td> </td>    \n</tr>\n</table>\n<table class=\"simpletable\">\n<tr>\n     <td></td>       <th>coef</th>     <th>std err</th>      <th>t</th>      <th>P>|t|</th>  <th>[0.025</th>    <th>0.975]</th>  \n</tr>\n<tr>\n  <th>sale</th>   <td>-1.114e-05</td> <td> 1.09e-06</td> <td>  -10.266</td> <td> 0.000</td> <td>-1.33e-05</td> <td>-9.02e-06</td>\n</tr>\n<tr>\n  <th>ebitda</th> <td>-2.714e-05</td> <td> 7.08e-06</td> <td>   -3.831</td> <td> 0.000</td> <td> -4.1e-05</td> <td>-1.33e-05</td>\n</tr>\n<tr>\n  <th>size</th>   <td>    0.2715</td> <td>    0.004</td> <td>   76.758</td> <td> 0.000</td> <td>    0.265</td> <td>    0.278</td>\n</tr>\n<tr>\n  <th>totdr</th>  <td>    0.3987</td> <td>    0.064</td> <td>    6.242</td> <td> 0.000</td> <td>    0.273</td> <td>    0.524</td>\n</tr>\n<tr>\n  <th>xrd</th>    <td>    0.0002</td> <td> 1.74e-05</td> <td>   10.683</td> <td> 0.000</td> <td>    0.000</td> <td>    0.000</td>\n</tr>\n</table>\n<table class=\"simpletable\">\n<tr>\n  <th>Omnibus:</th>       <td>13773.112</td> <th>  Durbin-Watson:     </th>  <td>   0.706</td>  \n</tr>\n<tr>\n  <th>Prob(Omnibus):</th>  <td> 0.000</td>   <th>  Jarque-Bera (JB):  </th> <td>1157604.670</td>\n</tr>\n<tr>\n  <th>Skew:</th>           <td> 4.482</td>   <th>  Prob(JB):          </th>  <td>    0.00</td>  \n</tr>\n<tr>\n  <th>Kurtosis:</th>       <td>46.130</td>   <th>  Cond. No.          </th>  <td>9.41e+04</td>  \n</tr>\n</table><br/><br/>Notes:<br/>[1] R² is computed without centering (uncentered) since the model does not contain a constant.<br/>[2] Standard Errors assume that the covariance matrix of the errors is correctly specified.<br/>[3] The condition number is large, 9.41e+04. This might indicate that there are<br/>strong multicollinearity or other numerical problems.",
            "text/latex": "\\begin{center}\n\\begin{tabular}{lclc}\n\\toprule\n\\textbf{Dep. Variable:}    &        Q         & \\textbf{  R-squared (uncentered):}      &      0.539   \\\\\n\\textbf{Model:}            &       OLS        & \\textbf{  Adj. R-squared (uncentered):} &      0.538   \\\\\n\\textbf{Method:}           &  Least Squares   & \\textbf{  F-statistic:       }          &      3342.   \\\\\n\\textbf{Date:}             & Tue, 07 Nov 2023 & \\textbf{  Prob (F-statistic):}          &      0.00    \\\\\n\\textbf{Time:}             &     20:11:33     & \\textbf{  Log-Likelihood:    }          &    -29626.   \\\\\n\\textbf{No. Observations:} &       14317      & \\textbf{  AIC:               }          &  5.926e+04   \\\\\n\\textbf{Df Residuals:}     &       14312      & \\textbf{  BIC:               }          &  5.930e+04   \\\\\n\\textbf{Df Model:}         &           5      & \\textbf{                     }          &              \\\\\n\\textbf{Covariance Type:}  &    nonrobust     & \\textbf{                     }          &              \\\\\n\\bottomrule\n\\end{tabular}\n\\begin{tabular}{lcccccc}\n                & \\textbf{coef} & \\textbf{std err} & \\textbf{t} & \\textbf{P$> |$t$|$} & \\textbf{[0.025} & \\textbf{0.975]}  \\\\\n\\midrule\n\\textbf{sale}   &   -1.114e-05  &     1.09e-06     &   -10.266  &         0.000        &    -1.33e-05    &    -9.02e-06     \\\\\n\\textbf{ebitda} &   -2.714e-05  &     7.08e-06     &    -3.831  &         0.000        &     -4.1e-05    &    -1.33e-05     \\\\\n\\textbf{size}   &       0.2715  &        0.004     &    76.758  &         0.000        &        0.265    &        0.278     \\\\\n\\textbf{totdr}  &       0.3987  &        0.064     &     6.242  &         0.000        &        0.273    &        0.524     \\\\\n\\textbf{xrd}    &       0.0002  &     1.74e-05     &    10.683  &         0.000        &        0.000    &        0.000     \\\\\n\\bottomrule\n\\end{tabular}\n\\begin{tabular}{lclc}\n\\textbf{Omnibus:}       & 13773.112 & \\textbf{  Durbin-Watson:     } &      0.706   \\\\\n\\textbf{Prob(Omnibus):} &    0.000  & \\textbf{  Jarque-Bera (JB):  } & 1157604.670  \\\\\n\\textbf{Skew:}          &    4.482  & \\textbf{  Prob(JB):          } &       0.00   \\\\\n\\textbf{Kurtosis:}      &   46.130  & \\textbf{  Cond. No.          } &   9.41e+04   \\\\\n\\bottomrule\n\\end{tabular}\n%\\caption{OLS Regression Results}\n\\end{center}\n\nNotes: \\newline\n [1] R² is computed without centering (uncentered) since the model does not contain a constant. \\newline\n [2] Standard Errors assume that the covariance matrix of the errors is correctly specified. \\newline\n [3] The condition number is large, 9.41e+04. This might indicate that there are \\newline\n strong multicollinearity or other numerical problems."
          },
          "metadata": {}
        }
      ],
      "id": "e2930628-8260-49d0-ac6b-9e045159cff3"
    },
    {
      "cell_type": "code",
      "source": "res.describe()",
      "metadata": {
        "trusted": true
      },
      "execution_count": 122,
      "outputs": [
        {
          "execution_count": 122,
          "output_type": "execute_result",
          "data": {
            "text/plain": "               year             at           sale            ceq  \\\ncount  14317.000000   14317.000000   14317.000000   14317.000000   \nmean    2016.379898    9114.891404    6723.606341    3121.545620   \nstd        2.287867   27247.886759   22390.885504   10837.037232   \nmin     2013.000000      10.240000       5.132000  -18316.000000   \n25%     2014.000000     631.236000     441.936000     204.594000   \n50%     2016.000000    2025.373000    1553.914000     703.821000   \n75%     2018.000000    6247.583000    4556.622000    2036.200000   \nmax     2020.000000  551669.000000  556933.000000  222544.000000   \n\n               csho        prcc_f          ppent             dt        ebitda  \\\ncount  14317.000000  14317.000000   14317.000000   14317.000000  14317.000000   \nmean     217.392473     52.416537    2990.373789    2912.238586   1110.348163   \nstd      541.092447    139.527305   11073.414987    8841.191245   3876.072443   \nmin        0.001000      0.000100       0.000000       0.000000 -21913.000000   \n25%       36.668000     11.030000     102.857000      70.895000     41.292000   \n50%       78.022000     28.070000     441.969000     548.000000    207.915000   \n75%      182.300000     58.870000    1658.700000    2060.263000    720.000000   \nmax    16976.763000   4410.000000  259651.000000  188398.000000  81730.000000   \n\n                xrd  ...           sic          atng         totdr  \\\ncount  14317.000000  ...  14317.000000  14317.000000  14317.000000   \nmean     186.919714  ...   4235.539918      0.319753      0.294152   \nstd     1164.956658  ...   2143.861302      0.270550      0.253147   \nmin        0.000000  ...    100.000000      0.000000      0.000000   \n25%        0.000000  ...   2833.000000      0.093696      0.118277   \n50%        0.000000  ...   3728.000000      0.225581      0.266159   \n75%       37.564000  ...   5661.000000      0.508879      0.415411   \nmax    42740.000000  ...   9997.000000      0.988689      4.754862   \n\n              capxr           rdr          prof          size             Q  \\\ncount  14317.000000  14317.000000  14317.000000  14317.000000  14317.000000   \nmean       0.155582      0.096351      0.035881      7.236306      2.140145   \nstd        0.722344      0.835310      1.561709      1.842790      1.838277   \nmin       -0.603110      0.000000   -102.772423      1.635495      0.149198   \n25%        0.020016      0.000000      0.060697      6.091165      1.178309   \n50%        0.039528      0.000000      0.135719      7.348532      1.595153   \n75%        0.094645      0.028768      0.233130      8.424337      2.398127   \nmax       41.140791     53.700495      1.848173     13.230200     45.419832   \n\n              mnrri       lastrri  \ncount  14317.000000  14317.000000  \nmean       9.192957      8.765314  \nstd       10.821403     11.651991  \nmin        0.000000      0.000000  \n25%        0.000000      0.000000  \n50%        4.819672      0.000000  \n75%       16.989041     18.000000  \nmax       66.526027     71.000000  \n\n[8 rows x 21 columns]",
            "text/html": "<div>\n<style scoped>\n    .dataframe tbody tr th:only-of-type {\n        vertical-align: middle;\n    }\n\n    .dataframe tbody tr th {\n        vertical-align: top;\n    }\n\n    .dataframe thead th {\n        text-align: right;\n    }\n</style>\n<table border=\"1\" class=\"dataframe\">\n  <thead>\n    <tr style=\"text-align: right;\">\n      <th></th>\n      <th>year</th>\n      <th>at</th>\n      <th>sale</th>\n      <th>ceq</th>\n      <th>csho</th>\n      <th>prcc_f</th>\n      <th>ppent</th>\n      <th>dt</th>\n      <th>ebitda</th>\n      <th>xrd</th>\n      <th>...</th>\n      <th>sic</th>\n      <th>atng</th>\n      <th>totdr</th>\n      <th>capxr</th>\n      <th>rdr</th>\n      <th>prof</th>\n      <th>size</th>\n      <th>Q</th>\n      <th>mnrri</th>\n      <th>lastrri</th>\n    </tr>\n  </thead>\n  <tbody>\n    <tr>\n      <th>count</th>\n      <td>14317.000000</td>\n      <td>14317.000000</td>\n      <td>14317.000000</td>\n      <td>14317.000000</td>\n      <td>14317.000000</td>\n      <td>14317.000000</td>\n      <td>14317.000000</td>\n      <td>14317.000000</td>\n      <td>14317.000000</td>\n      <td>14317.000000</td>\n      <td>...</td>\n      <td>14317.000000</td>\n      <td>14317.000000</td>\n      <td>14317.000000</td>\n      <td>14317.000000</td>\n      <td>14317.000000</td>\n      <td>14317.000000</td>\n      <td>14317.000000</td>\n      <td>14317.000000</td>\n      <td>14317.000000</td>\n      <td>14317.000000</td>\n    </tr>\n    <tr>\n      <th>mean</th>\n      <td>2016.379898</td>\n      <td>9114.891404</td>\n      <td>6723.606341</td>\n      <td>3121.545620</td>\n      <td>217.392473</td>\n      <td>52.416537</td>\n      <td>2990.373789</td>\n      <td>2912.238586</td>\n      <td>1110.348163</td>\n      <td>186.919714</td>\n      <td>...</td>\n      <td>4235.539918</td>\n      <td>0.319753</td>\n      <td>0.294152</td>\n      <td>0.155582</td>\n      <td>0.096351</td>\n      <td>0.035881</td>\n      <td>7.236306</td>\n      <td>2.140145</td>\n      <td>9.192957</td>\n      <td>8.765314</td>\n    </tr>\n    <tr>\n      <th>std</th>\n      <td>2.287867</td>\n      <td>27247.886759</td>\n      <td>22390.885504</td>\n      <td>10837.037232</td>\n      <td>541.092447</td>\n      <td>139.527305</td>\n      <td>11073.414987</td>\n      <td>8841.191245</td>\n      <td>3876.072443</td>\n      <td>1164.956658</td>\n      <td>...</td>\n      <td>2143.861302</td>\n      <td>0.270550</td>\n      <td>0.253147</td>\n      <td>0.722344</td>\n      <td>0.835310</td>\n      <td>1.561709</td>\n      <td>1.842790</td>\n      <td>1.838277</td>\n      <td>10.821403</td>\n      <td>11.651991</td>\n    </tr>\n    <tr>\n      <th>min</th>\n      <td>2013.000000</td>\n      <td>10.240000</td>\n      <td>5.132000</td>\n      <td>-18316.000000</td>\n      <td>0.001000</td>\n      <td>0.000100</td>\n      <td>0.000000</td>\n      <td>0.000000</td>\n      <td>-21913.000000</td>\n      <td>0.000000</td>\n      <td>...</td>\n      <td>100.000000</td>\n      <td>0.000000</td>\n      <td>0.000000</td>\n      <td>-0.603110</td>\n      <td>0.000000</td>\n      <td>-102.772423</td>\n      <td>1.635495</td>\n      <td>0.149198</td>\n      <td>0.000000</td>\n      <td>0.000000</td>\n    </tr>\n    <tr>\n      <th>25%</th>\n      <td>2014.000000</td>\n      <td>631.236000</td>\n      <td>441.936000</td>\n      <td>204.594000</td>\n      <td>36.668000</td>\n      <td>11.030000</td>\n      <td>102.857000</td>\n      <td>70.895000</td>\n      <td>41.292000</td>\n      <td>0.000000</td>\n      <td>...</td>\n      <td>2833.000000</td>\n      <td>0.093696</td>\n      <td>0.118277</td>\n      <td>0.020016</td>\n      <td>0.000000</td>\n      <td>0.060697</td>\n      <td>6.091165</td>\n      <td>1.178309</td>\n      <td>0.000000</td>\n      <td>0.000000</td>\n    </tr>\n    <tr>\n      <th>50%</th>\n      <td>2016.000000</td>\n      <td>2025.373000</td>\n      <td>1553.914000</td>\n      <td>703.821000</td>\n      <td>78.022000</td>\n      <td>28.070000</td>\n      <td>441.969000</td>\n      <td>548.000000</td>\n      <td>207.915000</td>\n      <td>0.000000</td>\n      <td>...</td>\n      <td>3728.000000</td>\n      <td>0.225581</td>\n      <td>0.266159</td>\n      <td>0.039528</td>\n      <td>0.000000</td>\n      <td>0.135719</td>\n      <td>7.348532</td>\n      <td>1.595153</td>\n      <td>4.819672</td>\n      <td>0.000000</td>\n    </tr>\n    <tr>\n      <th>75%</th>\n      <td>2018.000000</td>\n      <td>6247.583000</td>\n      <td>4556.622000</td>\n      <td>2036.200000</td>\n      <td>182.300000</td>\n      <td>58.870000</td>\n      <td>1658.700000</td>\n      <td>2060.263000</td>\n      <td>720.000000</td>\n      <td>37.564000</td>\n      <td>...</td>\n      <td>5661.000000</td>\n      <td>0.508879</td>\n      <td>0.415411</td>\n      <td>0.094645</td>\n      <td>0.028768</td>\n      <td>0.233130</td>\n      <td>8.424337</td>\n      <td>2.398127</td>\n      <td>16.989041</td>\n      <td>18.000000</td>\n    </tr>\n    <tr>\n      <th>max</th>\n      <td>2020.000000</td>\n      <td>551669.000000</td>\n      <td>556933.000000</td>\n      <td>222544.000000</td>\n      <td>16976.763000</td>\n      <td>4410.000000</td>\n      <td>259651.000000</td>\n      <td>188398.000000</td>\n      <td>81730.000000</td>\n      <td>42740.000000</td>\n      <td>...</td>\n      <td>9997.000000</td>\n      <td>0.988689</td>\n      <td>4.754862</td>\n      <td>41.140791</td>\n      <td>53.700495</td>\n      <td>1.848173</td>\n      <td>13.230200</td>\n      <td>45.419832</td>\n      <td>66.526027</td>\n      <td>71.000000</td>\n    </tr>\n  </tbody>\n</table>\n<p>8 rows × 21 columns</p>\n</div>"
          },
          "metadata": {}
        }
      ],
      "id": "f5cfc0a0-8c33-40fb-a334-e87a15bc1fba"
    },
    {
      "cell_type": "code",
      "source": "Q1 = res['mnrri'].quantile(0.25)\nQ3 = res['mnrri'].quantile(0.75)\nIQR = Q3 - Q1\nthreshold = 1.5\noutliers = res[(res['mnrri'] < Q1 - threshold * IQR) | (res['mnrri'] > Q3 + threshold * IQR)]\noutliers",
      "metadata": {
        "trusted": true
      },
      "execution_count": 127,
      "outputs": [
        {
          "execution_count": 127,
          "output_type": "execute_result",
          "data": {
            "text/plain": "         year          at        sale         ceq      csho  prcc_f  \\\n256    2013.0  207000.000  170910.000  123549.000   899.213  476.75   \n257    2014.0  231839.000  182795.000  111547.000  5866.161  100.75   \n258    2015.0  290479.000  233715.000  119355.000  5578.753  110.30   \n259    2016.0  321686.000  215091.000  128249.000  5336.166  113.05   \n260    2017.0  375319.000  229234.000  134047.000  5126.201  154.12   \n...       ...         ...         ...         ...       ...     ...   \n17532  2016.0   22664.076    7000.132    4752.911   161.561  213.69   \n17533  2017.0   28655.372   11758.751    4237.242   168.797  311.35   \n17534  2018.0   29739.614   21461.268    4923.243   172.603  332.80   \n17535  2019.0   34309.000   24578.000    6618.000   181.000  418.33   \n17536  2020.0   52148.000   31536.000   22225.000   960.000  705.67   \n\n           ppent          dt     ebitda        xrd  ...      atng     totdr  \\\n256    16597.000   16960.000  55756.000   4475.000  ...  0.080179  0.081932   \n257    20624.000   28987.000  60449.000   6041.000  ...  0.088958  0.125031   \n258    22471.000   55963.000  81730.000   8067.000  ...  0.077358  0.192658   \n259    27010.000   78927.000  69276.000  10045.000  ...  0.083964  0.245354   \n260    33783.000  103703.000  70744.000  11581.000  ...  0.090011  0.276306   \n...          ...         ...        ...        ...  ...       ...       ...   \n17532  15036.917    7256.038    301.459    834.408  ...  0.663469  0.320156   \n17533  20491.616   10450.110     70.917   1378.073  ...  0.715106  0.364682   \n17534  19691.231   12083.515   1634.946   1473.634  ...  0.662121  0.406310   \n17535  20199.000   14697.000   2187.000   1390.000  ...  0.588738  0.428372   \n17536  23375.000   13347.000   4506.000   1491.000  ...  0.448243  0.255945   \n\n          capxr       rdr      prof       size          Q      mnrri  \\\n256    0.047774  0.026183  0.326230  12.048892   2.474158  57.553425   \n257    0.052359  0.033048  0.330693  12.116121   3.068111  59.917808   \n258    0.048123  0.034516  0.349699  12.361858   2.707461  58.734247   \n259    0.059203  0.046701  0.322078  12.278816   2.476609  55.631148   \n260    0.054316  0.050520  0.308610  12.342499   2.747855  59.027397   \n...         ...       ...       ...        ...        ...        ...   \n17532  0.205778  0.119199  0.043065   8.853684   2.313579  45.677596   \n17533  0.347091  0.117196  0.006031   9.372353   2.686166  52.904110   \n17534  0.108079  0.068665  0.076181   9.974005   2.765962  54.693151   \n17535  0.058263  0.056555  0.088982  10.109607   3.014041  48.789041   \n17536  0.102486  0.047279  0.142884  10.358885  13.564589  54.338798   \n\n             date  lastrri  \n256    2013-01-01     61.0  \n257    2014-01-01     56.0  \n258    2015-01-01     62.0  \n259    2016-01-01     56.0  \n260    2017-01-01     60.0  \n...           ...      ...  \n17532  2016-01-01     25.0  \n17533  2017-01-01     59.0  \n17534  2018-01-01     56.0  \n17535  2019-01-01     51.0  \n17536  2020-01-01     56.0  \n\n[187 rows x 22 columns]",
            "text/html": "<div>\n<style scoped>\n    .dataframe tbody tr th:only-of-type {\n        vertical-align: middle;\n    }\n\n    .dataframe tbody tr th {\n        vertical-align: top;\n    }\n\n    .dataframe thead th {\n        text-align: right;\n    }\n</style>\n<table border=\"1\" class=\"dataframe\">\n  <thead>\n    <tr style=\"text-align: right;\">\n      <th></th>\n      <th>year</th>\n      <th>at</th>\n      <th>sale</th>\n      <th>ceq</th>\n      <th>csho</th>\n      <th>prcc_f</th>\n      <th>ppent</th>\n      <th>dt</th>\n      <th>ebitda</th>\n      <th>xrd</th>\n      <th>...</th>\n      <th>atng</th>\n      <th>totdr</th>\n      <th>capxr</th>\n      <th>rdr</th>\n      <th>prof</th>\n      <th>size</th>\n      <th>Q</th>\n      <th>mnrri</th>\n      <th>date</th>\n      <th>lastrri</th>\n    </tr>\n  </thead>\n  <tbody>\n    <tr>\n      <th>256</th>\n      <td>2013.0</td>\n      <td>207000.000</td>\n      <td>170910.000</td>\n      <td>123549.000</td>\n      <td>899.213</td>\n      <td>476.75</td>\n      <td>16597.000</td>\n      <td>16960.000</td>\n      <td>55756.000</td>\n      <td>4475.000</td>\n      <td>...</td>\n      <td>0.080179</td>\n      <td>0.081932</td>\n      <td>0.047774</td>\n      <td>0.026183</td>\n      <td>0.326230</td>\n      <td>12.048892</td>\n      <td>2.474158</td>\n      <td>57.553425</td>\n      <td>2013-01-01</td>\n      <td>61.0</td>\n    </tr>\n    <tr>\n      <th>257</th>\n      <td>2014.0</td>\n      <td>231839.000</td>\n      <td>182795.000</td>\n      <td>111547.000</td>\n      <td>5866.161</td>\n      <td>100.75</td>\n      <td>20624.000</td>\n      <td>28987.000</td>\n      <td>60449.000</td>\n      <td>6041.000</td>\n      <td>...</td>\n      <td>0.088958</td>\n      <td>0.125031</td>\n      <td>0.052359</td>\n      <td>0.033048</td>\n      <td>0.330693</td>\n      <td>12.116121</td>\n      <td>3.068111</td>\n      <td>59.917808</td>\n      <td>2014-01-01</td>\n      <td>56.0</td>\n    </tr>\n    <tr>\n      <th>258</th>\n      <td>2015.0</td>\n      <td>290479.000</td>\n      <td>233715.000</td>\n      <td>119355.000</td>\n      <td>5578.753</td>\n      <td>110.30</td>\n      <td>22471.000</td>\n      <td>55963.000</td>\n      <td>81730.000</td>\n      <td>8067.000</td>\n      <td>...</td>\n      <td>0.077358</td>\n      <td>0.192658</td>\n      <td>0.048123</td>\n      <td>0.034516</td>\n      <td>0.349699</td>\n      <td>12.361858</td>\n      <td>2.707461</td>\n      <td>58.734247</td>\n      <td>2015-01-01</td>\n      <td>62.0</td>\n    </tr>\n    <tr>\n      <th>259</th>\n      <td>2016.0</td>\n      <td>321686.000</td>\n      <td>215091.000</td>\n      <td>128249.000</td>\n      <td>5336.166</td>\n      <td>113.05</td>\n      <td>27010.000</td>\n      <td>78927.000</td>\n      <td>69276.000</td>\n      <td>10045.000</td>\n      <td>...</td>\n      <td>0.083964</td>\n      <td>0.245354</td>\n      <td>0.059203</td>\n      <td>0.046701</td>\n      <td>0.322078</td>\n      <td>12.278816</td>\n      <td>2.476609</td>\n      <td>55.631148</td>\n      <td>2016-01-01</td>\n      <td>56.0</td>\n    </tr>\n    <tr>\n      <th>260</th>\n      <td>2017.0</td>\n      <td>375319.000</td>\n      <td>229234.000</td>\n      <td>134047.000</td>\n      <td>5126.201</td>\n      <td>154.12</td>\n      <td>33783.000</td>\n      <td>103703.000</td>\n      <td>70744.000</td>\n      <td>11581.000</td>\n      <td>...</td>\n      <td>0.090011</td>\n      <td>0.276306</td>\n      <td>0.054316</td>\n      <td>0.050520</td>\n      <td>0.308610</td>\n      <td>12.342499</td>\n      <td>2.747855</td>\n      <td>59.027397</td>\n      <td>2017-01-01</td>\n      <td>60.0</td>\n    </tr>\n    <tr>\n      <th>...</th>\n      <td>...</td>\n      <td>...</td>\n      <td>...</td>\n      <td>...</td>\n      <td>...</td>\n      <td>...</td>\n      <td>...</td>\n      <td>...</td>\n      <td>...</td>\n      <td>...</td>\n      <td>...</td>\n      <td>...</td>\n      <td>...</td>\n      <td>...</td>\n      <td>...</td>\n      <td>...</td>\n      <td>...</td>\n      <td>...</td>\n      <td>...</td>\n      <td>...</td>\n      <td>...</td>\n    </tr>\n    <tr>\n      <th>17532</th>\n      <td>2016.0</td>\n      <td>22664.076</td>\n      <td>7000.132</td>\n      <td>4752.911</td>\n      <td>161.561</td>\n      <td>213.69</td>\n      <td>15036.917</td>\n      <td>7256.038</td>\n      <td>301.459</td>\n      <td>834.408</td>\n      <td>...</td>\n      <td>0.663469</td>\n      <td>0.320156</td>\n      <td>0.205778</td>\n      <td>0.119199</td>\n      <td>0.043065</td>\n      <td>8.853684</td>\n      <td>2.313579</td>\n      <td>45.677596</td>\n      <td>2016-01-01</td>\n      <td>25.0</td>\n    </tr>\n    <tr>\n      <th>17533</th>\n      <td>2017.0</td>\n      <td>28655.372</td>\n      <td>11758.751</td>\n      <td>4237.242</td>\n      <td>168.797</td>\n      <td>311.35</td>\n      <td>20491.616</td>\n      <td>10450.110</td>\n      <td>70.917</td>\n      <td>1378.073</td>\n      <td>...</td>\n      <td>0.715106</td>\n      <td>0.364682</td>\n      <td>0.347091</td>\n      <td>0.117196</td>\n      <td>0.006031</td>\n      <td>9.372353</td>\n      <td>2.686166</td>\n      <td>52.904110</td>\n      <td>2017-01-01</td>\n      <td>59.0</td>\n    </tr>\n    <tr>\n      <th>17534</th>\n      <td>2018.0</td>\n      <td>29739.614</td>\n      <td>21461.268</td>\n      <td>4923.243</td>\n      <td>172.603</td>\n      <td>332.80</td>\n      <td>19691.231</td>\n      <td>12083.515</td>\n      <td>1634.946</td>\n      <td>1473.634</td>\n      <td>...</td>\n      <td>0.662121</td>\n      <td>0.406310</td>\n      <td>0.108079</td>\n      <td>0.068665</td>\n      <td>0.076181</td>\n      <td>9.974005</td>\n      <td>2.765962</td>\n      <td>54.693151</td>\n      <td>2018-01-01</td>\n      <td>56.0</td>\n    </tr>\n    <tr>\n      <th>17535</th>\n      <td>2019.0</td>\n      <td>34309.000</td>\n      <td>24578.000</td>\n      <td>6618.000</td>\n      <td>181.000</td>\n      <td>418.33</td>\n      <td>20199.000</td>\n      <td>14697.000</td>\n      <td>2187.000</td>\n      <td>1390.000</td>\n      <td>...</td>\n      <td>0.588738</td>\n      <td>0.428372</td>\n      <td>0.058263</td>\n      <td>0.056555</td>\n      <td>0.088982</td>\n      <td>10.109607</td>\n      <td>3.014041</td>\n      <td>48.789041</td>\n      <td>2019-01-01</td>\n      <td>51.0</td>\n    </tr>\n    <tr>\n      <th>17536</th>\n      <td>2020.0</td>\n      <td>52148.000</td>\n      <td>31536.000</td>\n      <td>22225.000</td>\n      <td>960.000</td>\n      <td>705.67</td>\n      <td>23375.000</td>\n      <td>13347.000</td>\n      <td>4506.000</td>\n      <td>1491.000</td>\n      <td>...</td>\n      <td>0.448243</td>\n      <td>0.255945</td>\n      <td>0.102486</td>\n      <td>0.047279</td>\n      <td>0.142884</td>\n      <td>10.358885</td>\n      <td>13.564589</td>\n      <td>54.338798</td>\n      <td>2020-01-01</td>\n      <td>56.0</td>\n    </tr>\n  </tbody>\n</table>\n<p>187 rows × 22 columns</p>\n</div>"
          },
          "metadata": {}
        }
      ],
      "id": "093de179-3d15-47ad-95e9-d8bb9b20d46e"
    },
    {
      "cell_type": "code",
      "source": "newres = res.drop(outliers.index)",
      "metadata": {
        "trusted": true
      },
      "execution_count": 129,
      "outputs": [],
      "id": "8aded33c-fa4e-4d22-96a2-47b19e9b0aa9"
    },
    {
      "cell_type": "code",
      "source": "y = newres[\"mnrri\"]\nx = newres[[\"sale\",\"ebitda\",\"size\",\"capxr\"]]\nmodel = sm.OLS(y,x)\nresults = model.fit()\nresults.params",
      "metadata": {
        "trusted": true
      },
      "execution_count": 133,
      "outputs": [
        {
          "execution_count": 133,
          "output_type": "execute_result",
          "data": {
            "text/plain": "sale      0.000138\nebitda    0.000613\nsize      1.064322\ncapxr     0.306380\ndtype: float64"
          },
          "metadata": {}
        }
      ],
      "id": "84bb2a96-215c-4051-a25a-803de9f84b31"
    },
    {
      "cell_type": "code",
      "source": "results.pvalues",
      "metadata": {
        "trusted": true
      },
      "execution_count": 134,
      "outputs": [
        {
          "execution_count": 134,
          "output_type": "execute_result",
          "data": {
            "text/plain": "sale      3.450531e-89\nebitda    8.232919e-63\nsize      0.000000e+00\ncapxr     1.232095e-03\ndtype: float64"
          },
          "metadata": {}
        }
      ],
      "id": "fc2b0a87-6a9a-4464-9ce3-f5db718cb107"
    },
    {
      "cell_type": "code",
      "source": "results.summary()",
      "metadata": {
        "trusted": true
      },
      "execution_count": 135,
      "outputs": [
        {
          "execution_count": 135,
          "output_type": "execute_result",
          "data": {
            "text/plain": "<class 'statsmodels.iolib.summary.Summary'>\n\"\"\"\n                                 OLS Regression Results                                \n=======================================================================================\nDep. Variable:                  mnrri   R-squared (uncentered):                   0.600\nModel:                            OLS   Adj. R-squared (uncentered):              0.600\nMethod:                 Least Squares   F-statistic:                              5307.\nDate:                Tue, 07 Nov 2023   Prob (F-statistic):                        0.00\nTime:                        20:20:00   Log-Likelihood:                         -49861.\nNo. Observations:               14130   AIC:                                  9.973e+04\nDf Residuals:                   14126   BIC:                                  9.976e+04\nDf Model:                           4                                                  \nCovariance Type:            nonrobust                                                  \n==============================================================================\n                 coef    std err          t      P>|t|      [0.025      0.975]\n------------------------------------------------------------------------------\nsale           0.0001   6.85e-06     20.167      0.000       0.000       0.000\nebitda         0.0006   3.65e-05     16.811      0.000       0.001       0.001\nsize           1.0643      0.011     98.103      0.000       1.043       1.086\ncapxr          0.3064      0.095      3.232      0.001       0.121       0.492\n==============================================================================\nOmnibus:                      810.634   Durbin-Watson:                   0.977\nProb(Omnibus):                  0.000   Jarque-Bera (JB):              898.095\nSkew:                           0.595   Prob(JB):                    9.57e-196\nKurtosis:                       2.672   Cond. No.                     2.11e+04\n==============================================================================\n\nNotes:\n[1] R² is computed without centering (uncentered) since the model does not contain a constant.\n[2] Standard Errors assume that the covariance matrix of the errors is correctly specified.\n[3] The condition number is large, 2.11e+04. This might indicate that there are\nstrong multicollinearity or other numerical problems.\n\"\"\"",
            "text/html": "<table class=\"simpletable\">\n<caption>OLS Regression Results</caption>\n<tr>\n  <th>Dep. Variable:</th>          <td>mnrri</td>      <th>  R-squared (uncentered):</th>      <td>   0.600</td> \n</tr>\n<tr>\n  <th>Model:</th>                   <td>OLS</td>       <th>  Adj. R-squared (uncentered):</th> <td>   0.600</td> \n</tr>\n<tr>\n  <th>Method:</th>             <td>Least Squares</td>  <th>  F-statistic:       </th>          <td>   5307.</td> \n</tr>\n<tr>\n  <th>Date:</th>             <td>Tue, 07 Nov 2023</td> <th>  Prob (F-statistic):</th>           <td>  0.00</td>  \n</tr>\n<tr>\n  <th>Time:</th>                 <td>20:20:00</td>     <th>  Log-Likelihood:    </th>          <td> -49861.</td> \n</tr>\n<tr>\n  <th>No. Observations:</th>      <td> 14130</td>      <th>  AIC:               </th>          <td>9.973e+04</td>\n</tr>\n<tr>\n  <th>Df Residuals:</th>          <td> 14126</td>      <th>  BIC:               </th>          <td>9.976e+04</td>\n</tr>\n<tr>\n  <th>Df Model:</th>              <td>     4</td>      <th>                     </th>              <td> </td>    \n</tr>\n<tr>\n  <th>Covariance Type:</th>      <td>nonrobust</td>    <th>                     </th>              <td> </td>    \n</tr>\n</table>\n<table class=\"simpletable\">\n<tr>\n     <td></td>       <th>coef</th>     <th>std err</th>      <th>t</th>      <th>P>|t|</th>  <th>[0.025</th>    <th>0.975]</th>  \n</tr>\n<tr>\n  <th>sale</th>   <td>    0.0001</td> <td> 6.85e-06</td> <td>   20.167</td> <td> 0.000</td> <td>    0.000</td> <td>    0.000</td>\n</tr>\n<tr>\n  <th>ebitda</th> <td>    0.0006</td> <td> 3.65e-05</td> <td>   16.811</td> <td> 0.000</td> <td>    0.001</td> <td>    0.001</td>\n</tr>\n<tr>\n  <th>size</th>   <td>    1.0643</td> <td>    0.011</td> <td>   98.103</td> <td> 0.000</td> <td>    1.043</td> <td>    1.086</td>\n</tr>\n<tr>\n  <th>capxr</th>  <td>    0.3064</td> <td>    0.095</td> <td>    3.232</td> <td> 0.001</td> <td>    0.121</td> <td>    0.492</td>\n</tr>\n</table>\n<table class=\"simpletable\">\n<tr>\n  <th>Omnibus:</th>       <td>810.634</td> <th>  Durbin-Watson:     </th> <td>   0.977</td> \n</tr>\n<tr>\n  <th>Prob(Omnibus):</th> <td> 0.000</td>  <th>  Jarque-Bera (JB):  </th> <td> 898.095</td> \n</tr>\n<tr>\n  <th>Skew:</th>          <td> 0.595</td>  <th>  Prob(JB):          </th> <td>9.57e-196</td>\n</tr>\n<tr>\n  <th>Kurtosis:</th>      <td> 2.672</td>  <th>  Cond. No.          </th> <td>2.11e+04</td> \n</tr>\n</table><br/><br/>Notes:<br/>[1] R² is computed without centering (uncentered) since the model does not contain a constant.<br/>[2] Standard Errors assume that the covariance matrix of the errors is correctly specified.<br/>[3] The condition number is large, 2.11e+04. This might indicate that there are<br/>strong multicollinearity or other numerical problems.",
            "text/latex": "\\begin{center}\n\\begin{tabular}{lclc}\n\\toprule\n\\textbf{Dep. Variable:}    &      mnrri       & \\textbf{  R-squared (uncentered):}      &     0.600   \\\\\n\\textbf{Model:}            &       OLS        & \\textbf{  Adj. R-squared (uncentered):} &     0.600   \\\\\n\\textbf{Method:}           &  Least Squares   & \\textbf{  F-statistic:       }          &     5307.   \\\\\n\\textbf{Date:}             & Tue, 07 Nov 2023 & \\textbf{  Prob (F-statistic):}          &     0.00    \\\\\n\\textbf{Time:}             &     20:20:00     & \\textbf{  Log-Likelihood:    }          &   -49861.   \\\\\n\\textbf{No. Observations:} &       14130      & \\textbf{  AIC:               }          & 9.973e+04   \\\\\n\\textbf{Df Residuals:}     &       14126      & \\textbf{  BIC:               }          & 9.976e+04   \\\\\n\\textbf{Df Model:}         &           4      & \\textbf{                     }          &             \\\\\n\\textbf{Covariance Type:}  &    nonrobust     & \\textbf{                     }          &             \\\\\n\\bottomrule\n\\end{tabular}\n\\begin{tabular}{lcccccc}\n                & \\textbf{coef} & \\textbf{std err} & \\textbf{t} & \\textbf{P$> |$t$|$} & \\textbf{[0.025} & \\textbf{0.975]}  \\\\\n\\midrule\n\\textbf{sale}   &       0.0001  &     6.85e-06     &    20.167  &         0.000        &        0.000    &        0.000     \\\\\n\\textbf{ebitda} &       0.0006  &     3.65e-05     &    16.811  &         0.000        &        0.001    &        0.001     \\\\\n\\textbf{size}   &       1.0643  &        0.011     &    98.103  &         0.000        &        1.043    &        1.086     \\\\\n\\textbf{capxr}  &       0.3064  &        0.095     &     3.232  &         0.001        &        0.121    &        0.492     \\\\\n\\bottomrule\n\\end{tabular}\n\\begin{tabular}{lclc}\n\\textbf{Omnibus:}       & 810.634 & \\textbf{  Durbin-Watson:     } &     0.977  \\\\\n\\textbf{Prob(Omnibus):} &   0.000 & \\textbf{  Jarque-Bera (JB):  } &   898.095  \\\\\n\\textbf{Skew:}          &   0.595 & \\textbf{  Prob(JB):          } & 9.57e-196  \\\\\n\\textbf{Kurtosis:}      &   2.672 & \\textbf{  Cond. No.          } &  2.11e+04  \\\\\n\\bottomrule\n\\end{tabular}\n%\\caption{OLS Regression Results}\n\\end{center}\n\nNotes: \\newline\n [1] R² is computed without centering (uncentered) since the model does not contain a constant. \\newline\n [2] Standard Errors assume that the covariance matrix of the errors is correctly specified. \\newline\n [3] The condition number is large, 2.11e+04. This might indicate that there are \\newline\n strong multicollinearity or other numerical problems."
          },
          "metadata": {}
        }
      ],
      "id": "47f21497-30cd-426e-bbe9-11b5716ecc92"
    },
    {
      "cell_type": "code",
      "source": "",
      "metadata": {},
      "execution_count": null,
      "outputs": [],
      "id": "478eb8e7-c618-47da-8239-bb99c4c29024"
    }
  ]
}